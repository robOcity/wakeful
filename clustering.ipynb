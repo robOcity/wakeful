{
 "cells": [
  {
   "cell_type": "markdown",
   "metadata": {},
   "source": [
    "### Clustering"
   ]
  },
  {
   "cell_type": "code",
   "execution_count": 41,
   "metadata": {},
   "outputs": [],
   "source": [
    "from sklearn.preprocessing import StandardScaler\n",
    "from sklearn.cluster import DBSCAN\n",
    "from sklearn import metrics\n",
    "from wakeful import log_munger\n",
    "import os\n",
    "import seaborn as sns\n",
    "import matplotlib.pyplot as plt\n",
    "%matplotlib inline"
   ]
  },
  {
   "cell_type": "code",
   "execution_count": 2,
   "metadata": {},
   "outputs": [
    {
     "data": {
      "text/plain": [
       "'/Users/rob/Google_Drive/Datascience/Galvanize/Project/wakeful_proj'"
      ]
     },
     "execution_count": 2,
     "metadata": {},
     "output_type": "execute_result"
    }
   ],
   "source": [
    "%pwd"
   ]
  },
  {
   "cell_type": "code",
   "execution_count": 9,
   "metadata": {},
   "outputs": [
    {
     "name": "stdout",
     "output_type": "stream",
     "text": [
      "./data/home/key_to_finding_data.h5 exists True\n"
     ]
    }
   ],
   "source": [
    "key = 'key_to_finding_data'\n",
    "filepath = os.path.join('.', 'data', 'home', key + '.h5')\n",
    "print(f'{filepath} exists {os.path.isfile(filepath)}')\n",
    "df = log_munger.hdf5_to_df(filepath, key=key)"
   ]
  },
  {
   "cell_type": "code",
   "execution_count": 10,
   "metadata": {},
   "outputs": [
    {
     "data": {
      "text/plain": [
       "(True, (34789, 47))"
      ]
     },
     "execution_count": 10,
     "metadata": {},
     "output_type": "execute_result"
    }
   ],
   "source": [
    "df['prc'] = log_munger.calc_prc(df)\n",
    "'prc' in df.columns, df.shape"
   ]
  },
  {
   "cell_type": "code",
   "execution_count": 11,
   "metadata": {},
   "outputs": [
    {
     "data": {
      "text/plain": [
       "array(['rtt', 'duration'], dtype=object)"
      ]
     },
     "execution_count": 11,
     "metadata": {},
     "output_type": "execute_result"
    }
   ],
   "source": [
    "td_columns = log_munger.find_columns_by_type(df, 'timedelta64[ns]')\n",
    "td_columns"
   ]
  },
  {
   "cell_type": "code",
   "execution_count": 12,
   "metadata": {},
   "outputs": [
    {
     "data": {
      "text/plain": [
       "(False, False)"
      ]
     },
     "execution_count": 12,
     "metadata": {},
     "output_type": "execute_result"
    }
   ],
   "source": [
    "df = df.drop(td_columns, axis=1)\n",
    "td_columns[0] in df.columns, td_columns[1] in df.columns    "
   ]
  },
  {
   "cell_type": "code",
   "execution_count": 24,
   "metadata": {},
   "outputs": [],
   "source": [
    "# TODO persist full and test data frame with class labels\n",
    "# TODO add functions to support this functionality\n",
    "#X, y = log_munger.split_X_y(df)"
   ]
  },
  {
   "cell_type": "code",
   "execution_count": 26,
   "metadata": {},
   "outputs": [
    {
     "data": {
      "text/plain": [
       "((34789, 45), (34789, 43))"
      ]
     },
     "execution_count": 26,
     "metadata": {},
     "output_type": "execute_result"
    }
   ],
   "source": [
    "# TODO function to return fill dicts for dfs \n",
    "df_na_removed = df.dropna(axis=1, how='any')\n",
    "df.shape, df_na_removed.shape"
   ]
  },
  {
   "cell_type": "code",
   "execution_count": 29,
   "metadata": {},
   "outputs": [
    {
     "data": {
      "text/plain": [
       "(34115, 45)"
      ]
     },
     "execution_count": 29,
     "metadata": {},
     "output_type": "execute_result"
    }
   ],
   "source": [
    "df_na_removed = df.dropna(axis=0, how='any')\n",
    "df_na_removed.shape"
   ]
  },
  {
   "cell_type": "code",
   "execution_count": 37,
   "metadata": {},
   "outputs": [
    {
     "data": {
      "text/html": [
       "<div>\n",
       "<style>\n",
       "    .dataframe thead tr:only-child th {\n",
       "        text-align: right;\n",
       "    }\n",
       "\n",
       "    .dataframe thead th {\n",
       "        text-align: left;\n",
       "    }\n",
       "\n",
       "    .dataframe tbody tr th {\n",
       "        vertical-align: top;\n",
       "    }\n",
       "</style>\n",
       "<table border=\"1\" class=\"dataframe\">\n",
       "  <thead>\n",
       "    <tr style=\"text-align: right;\">\n",
       "      <th></th>\n",
       "      <th>AA</th>\n",
       "      <th>RA</th>\n",
       "      <th>RD</th>\n",
       "      <th>TC</th>\n",
       "      <th>TTLs</th>\n",
       "      <th>Z</th>\n",
       "      <th>answers</th>\n",
       "      <th>id.orig_h_x</th>\n",
       "      <th>id.orig_p_x</th>\n",
       "      <th>id.resp_h_x</th>\n",
       "      <th>...</th>\n",
       "      <th>proto_y</th>\n",
       "      <th>resp_bytes</th>\n",
       "      <th>resp_cc</th>\n",
       "      <th>resp_ip_bytes</th>\n",
       "      <th>resp_pkts</th>\n",
       "      <th>sensorname</th>\n",
       "      <th>service</th>\n",
       "      <th>tunnel_parents</th>\n",
       "      <th>pcr</th>\n",
       "      <th>prc</th>\n",
       "    </tr>\n",
       "  </thead>\n",
       "  <tbody>\n",
       "    <tr>\n",
       "      <th>0</th>\n",
       "      <td>False</td>\n",
       "      <td>False</td>\n",
       "      <td>True</td>\n",
       "      <td>False</td>\n",
       "      <td>-</td>\n",
       "      <td>0</td>\n",
       "      <td>-</td>\n",
       "      <td>192.168.1.165</td>\n",
       "      <td>41584</td>\n",
       "      <td>192.168.1.1</td>\n",
       "      <td>...</td>\n",
       "      <td>udp</td>\n",
       "      <td>50</td>\n",
       "      <td>-</td>\n",
       "      <td>106</td>\n",
       "      <td>2</td>\n",
       "      <td>forest-eth1</td>\n",
       "      <td>dns</td>\n",
       "      <td>(empty)</td>\n",
       "      <td>0.000000</td>\n",
       "      <td>0.000000</td>\n",
       "    </tr>\n",
       "    <tr>\n",
       "      <th>1</th>\n",
       "      <td>False</td>\n",
       "      <td>False</td>\n",
       "      <td>True</td>\n",
       "      <td>False</td>\n",
       "      <td>-</td>\n",
       "      <td>0</td>\n",
       "      <td>-</td>\n",
       "      <td>192.168.1.165</td>\n",
       "      <td>41584</td>\n",
       "      <td>192.168.1.1</td>\n",
       "      <td>...</td>\n",
       "      <td>udp</td>\n",
       "      <td>50</td>\n",
       "      <td>-</td>\n",
       "      <td>106</td>\n",
       "      <td>2</td>\n",
       "      <td>forest-eth1</td>\n",
       "      <td>dns</td>\n",
       "      <td>(empty)</td>\n",
       "      <td>0.000000</td>\n",
       "      <td>0.000000</td>\n",
       "    </tr>\n",
       "    <tr>\n",
       "      <th>2</th>\n",
       "      <td>False</td>\n",
       "      <td>True</td>\n",
       "      <td>True</td>\n",
       "      <td>False</td>\n",
       "      <td>40.000000,40.000000,40.000000,40.000000,40.000...</td>\n",
       "      <td>0</td>\n",
       "      <td>2620:149:a42:206::4,2620:149:a42:206::6,2620:1...</td>\n",
       "      <td>192.168.1.173</td>\n",
       "      <td>51497</td>\n",
       "      <td>192.168.1.1</td>\n",
       "      <td>...</td>\n",
       "      <td>udp</td>\n",
       "      <td>278</td>\n",
       "      <td>-</td>\n",
       "      <td>306</td>\n",
       "      <td>1</td>\n",
       "      <td>forest-eth1</td>\n",
       "      <td>dns</td>\n",
       "      <td>(empty)</td>\n",
       "      <td>-0.674699</td>\n",
       "      <td>-0.674699</td>\n",
       "    </tr>\n",
       "  </tbody>\n",
       "</table>\n",
       "<p>3 rows × 45 columns</p>\n",
       "</div>"
      ],
      "text/plain": [
       "      AA     RA    RD     TC  \\\n",
       "0  False  False  True  False   \n",
       "1  False  False  True  False   \n",
       "2  False   True  True  False   \n",
       "\n",
       "                                                TTLs  Z  \\\n",
       "0                                                  -  0   \n",
       "1                                                  -  0   \n",
       "2  40.000000,40.000000,40.000000,40.000000,40.000...  0   \n",
       "\n",
       "                                             answers    id.orig_h_x  \\\n",
       "0                                                  -  192.168.1.165   \n",
       "1                                                  -  192.168.1.165   \n",
       "2  2620:149:a42:206::4,2620:149:a42:206::6,2620:1...  192.168.1.173   \n",
       "\n",
       "   id.orig_p_x  id.resp_h_x    ...     proto_y resp_bytes  resp_cc  \\\n",
       "0        41584  192.168.1.1    ...         udp         50        -   \n",
       "1        41584  192.168.1.1    ...         udp         50        -   \n",
       "2        51497  192.168.1.1    ...         udp        278        -   \n",
       "\n",
       "  resp_ip_bytes  resp_pkts   sensorname service  tunnel_parents       pcr  \\\n",
       "0           106          2  forest-eth1     dns         (empty)  0.000000   \n",
       "1           106          2  forest-eth1     dns         (empty)  0.000000   \n",
       "2           306          1  forest-eth1     dns         (empty) -0.674699   \n",
       "\n",
       "        prc  \n",
       "0  0.000000  \n",
       "1  0.000000  \n",
       "2 -0.674699  \n",
       "\n",
       "[3 rows x 45 columns]"
      ]
     },
     "execution_count": 37,
     "metadata": {},
     "output_type": "execute_result"
    }
   ],
   "source": [
    "df.head(3)"
   ]
  },
  {
   "cell_type": "code",
   "execution_count": 48,
   "metadata": {},
   "outputs": [
    {
     "data": {
      "text/plain": [
       "0                                                unifi.lan\n",
       "1                                                    unifi\n",
       "2                     p48-keyvalueservice.fe.apple-dns.net\n",
       "3                     p48-keyvalueservice.fe.apple-dns.net\n",
       "4              airspace-cdn.acmeaom.com.cdn.cloudflare.net\n",
       "5                                livestreams.azureedge.net\n",
       "6                                livestreams.azureedge.net\n",
       "7                                  sa7gl.wpc.lambdacdn.net\n",
       "8              airspace-cdn.acmeaom.com.cdn.cloudflare.net\n",
       "9        livestreams-content.acmeaom.com.cdn.cloudflare...\n",
       "10       livestreams-content.acmeaom.com.cdn.cloudflare...\n",
       "11       livestreams-content.acmeaom.com.cdn.cloudflare...\n",
       "12                                    legato.radiotime.com\n",
       "13                              tiles.services.mozilla.com\n",
       "14                              tiles.services.mozilla.com\n",
       "15                        tiles.r53-2.services.mozilla.com\n",
       "16                                               typing.io\n",
       "17                                               typing.io\n",
       "18                                    fonts.googleapis.com\n",
       "19                                    fonts.googleapis.com\n",
       "20                               googleadapis.l.google.com\n",
       "21                                     accounts.google.com\n",
       "22                                     accounts.google.com\n",
       "23                                     checkout.stripe.com\n",
       "24                                        www.facebook.com\n",
       "25                                    platform.twitter.com\n",
       "26                                       plus.l.google.com\n",
       "27                                        www.facebook.com\n",
       "28                             star-mini.c10r.facebook.com\n",
       "29                                       plus.l.google.com\n",
       "                               ...                        \n",
       "34754                              _sleep-proxy._udp.local\n",
       "34755                              _sleep-proxy._udp.local\n",
       "34756                              _sleep-proxy._udp.local\n",
       "34757                              _sleep-proxy._udp.local\n",
       "34758                              _sleep-proxy._udp.local\n",
       "34759                              _sleep-proxy._udp.local\n",
       "34760                              _sleep-proxy._udp.local\n",
       "34761                 p40-keyvalueservice.fe.apple-dns.net\n",
       "34762                                            unifi.lan\n",
       "34763                                                unifi\n",
       "34764                                    e.crashlytics.com\n",
       "34765    events-endpoint-455714294.us-east-1.elb.amazon...\n",
       "34766                                    e.crashlytics.com\n",
       "34767    events-endpoint-455714294.us-east-1.elb.amazon...\n",
       "34768                                      play.google.com\n",
       "34772                                            unifi.lan\n",
       "34773                                                unifi\n",
       "34774                    scss-prod-ue1-notif-1.adobesc.com\n",
       "34775                    scss-prod-ue1-notif-1.adobesc.com\n",
       "34776        clearwater beach._tivo-videostream._tcp.local\n",
       "34777                                     cinder.terra.com\n",
       "34778                                               cinder\n",
       "34781                         itunes.apple.com.edgekey.net\n",
       "34782                             notifications.google.com\n",
       "34783                              _sleep-proxy._udp.local\n",
       "34784                              _sleep-proxy._udp.local\n",
       "34785                              _sleep-proxy._udp.local\n",
       "34786                              _sleep-proxy._udp.local\n",
       "34787                              _sleep-proxy._udp.local\n",
       "34788                              _sleep-proxy._udp.local\n",
       "Name: query, Length: 34115, dtype: object"
      ]
     },
     "execution_count": 48,
     "metadata": {},
     "output_type": "execute_result"
    }
   ],
   "source": [
    "df_na_removed['query']"
   ]
  },
  {
   "cell_type": "code",
   "execution_count": 31,
   "metadata": {},
   "outputs": [
    {
     "ename": "ValueError",
     "evalue": "could not convert string to float: '(empty)'",
     "output_type": "error",
     "traceback": [
      "\u001b[0;31m---------------------------------------------------------------------------\u001b[0m",
      "\u001b[0;31mValueError\u001b[0m                                Traceback (most recent call last)",
      "\u001b[0;32m<ipython-input-31-57fae1c5102c>\u001b[0m in \u001b[0;36m<module>\u001b[0;34m()\u001b[0m\n\u001b[0;32m----> 1\u001b[0;31m \u001b[0mX\u001b[0m \u001b[0;34m=\u001b[0m \u001b[0mStandardScaler\u001b[0m\u001b[0;34m(\u001b[0m\u001b[0;34m)\u001b[0m\u001b[0;34m.\u001b[0m\u001b[0mfit_transform\u001b[0m\u001b[0;34m(\u001b[0m\u001b[0mX\u001b[0m\u001b[0;34m)\u001b[0m\u001b[0;34m\u001b[0m\u001b[0m\n\u001b[0m\u001b[1;32m      2\u001b[0m \u001b[0mdb\u001b[0m \u001b[0;34m=\u001b[0m \u001b[0mDBSCAN\u001b[0m\u001b[0;34m(\u001b[0m\u001b[0meps\u001b[0m\u001b[0;34m=\u001b[0m\u001b[0;36m0.3\u001b[0m\u001b[0;34m,\u001b[0m \u001b[0mmin_samples\u001b[0m\u001b[0;34m=\u001b[0m\u001b[0;36m10\u001b[0m\u001b[0;34m)\u001b[0m\u001b[0;34m.\u001b[0m\u001b[0mfit\u001b[0m\u001b[0;34m(\u001b[0m\u001b[0mX\u001b[0m\u001b[0;34m)\u001b[0m\u001b[0;34m\u001b[0m\u001b[0m\n",
      "\u001b[0;32m~/anaconda3/lib/python3.6/site-packages/sklearn/base.py\u001b[0m in \u001b[0;36mfit_transform\u001b[0;34m(self, X, y, **fit_params)\u001b[0m\n\u001b[1;32m    515\u001b[0m         \u001b[0;32mif\u001b[0m \u001b[0my\u001b[0m \u001b[0;32mis\u001b[0m \u001b[0;32mNone\u001b[0m\u001b[0;34m:\u001b[0m\u001b[0;34m\u001b[0m\u001b[0m\n\u001b[1;32m    516\u001b[0m             \u001b[0;31m# fit method of arity 1 (unsupervised transformation)\u001b[0m\u001b[0;34m\u001b[0m\u001b[0;34m\u001b[0m\u001b[0m\n\u001b[0;32m--> 517\u001b[0;31m             \u001b[0;32mreturn\u001b[0m \u001b[0mself\u001b[0m\u001b[0;34m.\u001b[0m\u001b[0mfit\u001b[0m\u001b[0;34m(\u001b[0m\u001b[0mX\u001b[0m\u001b[0;34m,\u001b[0m \u001b[0;34m**\u001b[0m\u001b[0mfit_params\u001b[0m\u001b[0;34m)\u001b[0m\u001b[0;34m.\u001b[0m\u001b[0mtransform\u001b[0m\u001b[0;34m(\u001b[0m\u001b[0mX\u001b[0m\u001b[0;34m)\u001b[0m\u001b[0;34m\u001b[0m\u001b[0m\n\u001b[0m\u001b[1;32m    518\u001b[0m         \u001b[0;32melse\u001b[0m\u001b[0;34m:\u001b[0m\u001b[0;34m\u001b[0m\u001b[0m\n\u001b[1;32m    519\u001b[0m             \u001b[0;31m# fit method of arity 2 (supervised transformation)\u001b[0m\u001b[0;34m\u001b[0m\u001b[0;34m\u001b[0m\u001b[0m\n",
      "\u001b[0;32m~/anaconda3/lib/python3.6/site-packages/sklearn/preprocessing/data.py\u001b[0m in \u001b[0;36mfit\u001b[0;34m(self, X, y)\u001b[0m\n\u001b[1;32m    588\u001b[0m         \u001b[0;31m# Reset internal state before fitting\u001b[0m\u001b[0;34m\u001b[0m\u001b[0;34m\u001b[0m\u001b[0m\n\u001b[1;32m    589\u001b[0m         \u001b[0mself\u001b[0m\u001b[0;34m.\u001b[0m\u001b[0m_reset\u001b[0m\u001b[0;34m(\u001b[0m\u001b[0;34m)\u001b[0m\u001b[0;34m\u001b[0m\u001b[0m\n\u001b[0;32m--> 590\u001b[0;31m         \u001b[0;32mreturn\u001b[0m \u001b[0mself\u001b[0m\u001b[0;34m.\u001b[0m\u001b[0mpartial_fit\u001b[0m\u001b[0;34m(\u001b[0m\u001b[0mX\u001b[0m\u001b[0;34m,\u001b[0m \u001b[0my\u001b[0m\u001b[0;34m)\u001b[0m\u001b[0;34m\u001b[0m\u001b[0m\n\u001b[0m\u001b[1;32m    591\u001b[0m \u001b[0;34m\u001b[0m\u001b[0m\n\u001b[1;32m    592\u001b[0m     \u001b[0;32mdef\u001b[0m \u001b[0mpartial_fit\u001b[0m\u001b[0;34m(\u001b[0m\u001b[0mself\u001b[0m\u001b[0;34m,\u001b[0m \u001b[0mX\u001b[0m\u001b[0;34m,\u001b[0m \u001b[0my\u001b[0m\u001b[0;34m=\u001b[0m\u001b[0;32mNone\u001b[0m\u001b[0;34m)\u001b[0m\u001b[0;34m:\u001b[0m\u001b[0;34m\u001b[0m\u001b[0m\n",
      "\u001b[0;32m~/anaconda3/lib/python3.6/site-packages/sklearn/preprocessing/data.py\u001b[0m in \u001b[0;36mpartial_fit\u001b[0;34m(self, X, y)\u001b[0m\n\u001b[1;32m    610\u001b[0m         \"\"\"\n\u001b[1;32m    611\u001b[0m         X = check_array(X, accept_sparse=('csr', 'csc'), copy=self.copy,\n\u001b[0;32m--> 612\u001b[0;31m                         warn_on_dtype=True, estimator=self, dtype=FLOAT_DTYPES)\n\u001b[0m\u001b[1;32m    613\u001b[0m \u001b[0;34m\u001b[0m\u001b[0m\n\u001b[1;32m    614\u001b[0m         \u001b[0;31m# Even in the case of `with_mean=False`, we update the mean anyway\u001b[0m\u001b[0;34m\u001b[0m\u001b[0;34m\u001b[0m\u001b[0m\n",
      "\u001b[0;32m~/anaconda3/lib/python3.6/site-packages/sklearn/utils/validation.py\u001b[0m in \u001b[0;36mcheck_array\u001b[0;34m(array, accept_sparse, dtype, order, copy, force_all_finite, ensure_2d, allow_nd, ensure_min_samples, ensure_min_features, warn_on_dtype, estimator)\u001b[0m\n\u001b[1;32m    431\u001b[0m                                       force_all_finite)\n\u001b[1;32m    432\u001b[0m     \u001b[0;32melse\u001b[0m\u001b[0;34m:\u001b[0m\u001b[0;34m\u001b[0m\u001b[0m\n\u001b[0;32m--> 433\u001b[0;31m         \u001b[0marray\u001b[0m \u001b[0;34m=\u001b[0m \u001b[0mnp\u001b[0m\u001b[0;34m.\u001b[0m\u001b[0marray\u001b[0m\u001b[0;34m(\u001b[0m\u001b[0marray\u001b[0m\u001b[0;34m,\u001b[0m \u001b[0mdtype\u001b[0m\u001b[0;34m=\u001b[0m\u001b[0mdtype\u001b[0m\u001b[0;34m,\u001b[0m \u001b[0morder\u001b[0m\u001b[0;34m=\u001b[0m\u001b[0morder\u001b[0m\u001b[0;34m,\u001b[0m \u001b[0mcopy\u001b[0m\u001b[0;34m=\u001b[0m\u001b[0mcopy\u001b[0m\u001b[0;34m)\u001b[0m\u001b[0;34m\u001b[0m\u001b[0m\n\u001b[0m\u001b[1;32m    434\u001b[0m \u001b[0;34m\u001b[0m\u001b[0m\n\u001b[1;32m    435\u001b[0m         \u001b[0;32mif\u001b[0m \u001b[0mensure_2d\u001b[0m\u001b[0;34m:\u001b[0m\u001b[0;34m\u001b[0m\u001b[0m\n",
      "\u001b[0;31mValueError\u001b[0m: could not convert string to float: '(empty)'"
     ]
    }
   ],
   "source": [
    "X = StandardScaler().fit_transform(X)\n",
    "db = DBSCAN(eps=0.3, min_samples=10).fit(X)"
   ]
  },
  {
   "cell_type": "code",
   "execution_count": null,
   "metadata": {},
   "outputs": [],
   "source": []
  }
 ],
 "metadata": {
  "kernelspec": {
   "display_name": "Python 3",
   "language": "python",
   "name": "python3"
  },
  "language_info": {
   "codemirror_mode": {
    "name": "ipython",
    "version": 3
   },
   "file_extension": ".py",
   "mimetype": "text/x-python",
   "name": "python",
   "nbconvert_exporter": "python",
   "pygments_lexer": "ipython3",
   "version": "3.6.3"
  }
 },
 "nbformat": 4,
 "nbformat_minor": 2
}
