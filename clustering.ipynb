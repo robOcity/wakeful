{
 "cells": [
  {
   "cell_type": "markdown",
   "metadata": {},
   "source": [
    "### Subset Distributions"
   ]
  },
  {
   "cell_type": "code",
   "execution_count": null,
   "metadata": {},
   "outputs": [],
   "source": [
    "import numpy as np\n",
    "import pandas as pd\n",
    "import seaborn as sns\n",
    "from sklearn.cluster import KMeans\n",
    "from sklearn.decomposition import PCA\n",
    "from mlxtend.feature_selection import SequentialFeatureSelector as SFS\n",
    "from wakeful import log_munger, metrics, virus_total\n",
    "import matplotlib.pyplot as plt\n",
    "import matplotlib.cm as cm\n",
    "from bat.dataframe_to_matrix import DataFrameToMatrix\n",
    "%matplotlib inline"
   ]
  },
  {
   "cell_type": "markdown",
   "metadata": {},
   "source": [
    "#### dnscat2"
   ]
  },
  {
   "cell_type": "code",
   "execution_count": 37,
   "metadata": {},
   "outputs": [
    {
     "name": "stdout",
     "output_type": "stream",
     "text": [
      "train value counts:\n",
      " 0    27255\n",
      "1    25770\n",
      "Name: label, dtype: int64\n",
      "test value counts:\n",
      " 0    27226\n",
      "1     1515\n",
      "Name: label, dtype: int64\n"
     ]
    }
   ],
   "source": [
    "df_train_conn_dnscat2 = log_munger.hdf5_to_df('dnscat2-2017-12-31-conn-train', './data')\n",
    "df_test_conn_dnscat2 = log_munger.hdf5_to_df('dnscat2-2017-12-31-conn-test', './data')\n",
    "print('train value counts:\\n', df_train_conn_dnscat2.label.value_counts())\n",
    "print('test value counts:\\n', df_test_conn_dnscat2.label.value_counts())"
   ]
  },
  {
   "cell_type": "code",
   "execution_count": 38,
   "metadata": {},
   "outputs": [],
   "source": [
    "df_train_conn_dnscat2 = df_train_conn_dnscat2.dropna(axis=0, how='any')"
   ]
  },
  {
   "cell_type": "code",
   "execution_count": 39,
   "metadata": {},
   "outputs": [
    {
     "name": "stdout",
     "output_type": "stream",
     "text": [
      "Changing column conn_state to category...\n",
      "Changing column proto to category...\n",
      "Changing column service to category...\n",
      "Changing column tunnel_parents to category...\n",
      "Normalizing column id.orig_p...\n",
      "Normalizing column id.resp_p...\n",
      "Normalizing column missed_bytes...\n",
      "Normalizing column orig_bytes...\n",
      "Normalizing column orig_ip_bytes...\n",
      "Normalizing column orig_pkts...\n",
      "Normalizing column resp_bytes...\n",
      "Normalizing column resp_ip_bytes...\n",
      "Normalizing column resp_pkts...\n",
      "Normalizing column pcr...\n"
     ]
    }
   ],
   "source": [
    "y_df_train_conn_dnscat2 = df_train_conn_dnscat2.pop('label')\n",
    "to_matrix = DataFrameToMatrix()\n",
    "X_matrix_train_conn_dnscat2 = to_matrix.fit_transform(df_train_conn_dnscat2)\n"
   ]
  },
  {
   "cell_type": "markdown",
   "metadata": {},
   "source": [
    "### PCA Feature Reduction"
   ]
  },
  {
   "cell_type": "code",
   "execution_count": 40,
   "metadata": {},
   "outputs": [
    {
     "name": "stdout",
     "output_type": "stream",
     "text": [
      "0.910998254716 = [ 0.39508562  0.21017696  0.16128267  0.06264435  0.04276256  0.0390461 ]\n",
      "6\n"
     ]
    }
   ],
   "source": [
    "pca = PCA(n_components=6)\n",
    "pca.fit(X_matrix_train_conn_dnscat2)\n",
    "print(sum(pca.explained_variance_ratio_), '=', pca.explained_variance_ratio_)\n",
    "print(pca.n_components_)\n",
    "X_matrix_train_conn_dnscat2 = pca.fit_transform(X_matrix_train_conn_dnscat2)"
   ]
  },
  {
   "cell_type": "code",
   "execution_count": 35,
   "metadata": {},
   "outputs": [
    {
     "data": {
      "text/plain": [
       "(46183, 6)"
      ]
     },
     "execution_count": 35,
     "metadata": {},
     "output_type": "execute_result"
    }
   ],
   "source": [
    "X_matrix_train_conn_dnscat2.shape"
   ]
  },
  {
   "cell_type": "markdown",
   "metadata": {},
   "source": [
    "### SequentialFeature Reduction"
   ]
  },
  {
   "cell_type": "code",
   "execution_count": null,
   "metadata": {},
   "outputs": [],
   "source": [
    "sfs1 = SFS(knn, \n",
    "           k_features=3, \n",
    "           forward=True, \n",
    "           floating=False, \n",
    "           verbose=2,\n",
    "           scoring='accuracy',\n",
    "           cv=0)\n",
    "\n",
    "sfs1 = sfs1.fit(X, y)"
   ]
  },
  {
   "cell_type": "code",
   "execution_count": null,
   "metadata": {},
   "outputs": [],
   "source": [
    "sns.pairplot(df_train_conn_dnscat2, hue='label')"
   ]
  },
  {
   "cell_type": "markdown",
   "metadata": {},
   "source": [
    "### Clustering"
   ]
  },
  {
   "cell_type": "code",
   "execution_count": 41,
   "metadata": {},
   "outputs": [],
   "source": [
    "from sklearn.preprocessing import StandardScaler\n",
    "from sklearn.cluster import DBSCAN\n",
    "from sklearn import metrics\n",
    "from wakeful import log_munger\n",
    "import os\n",
    "import seaborn as sns\n",
    "import matplotlib.pyplot as plt\n",
    "%matplotlib inline"
   ]
  },
  {
   "cell_type": "code",
   "execution_count": 2,
   "metadata": {},
   "outputs": [
    {
     "data": {
      "text/plain": [
       "'/Users/rob/Google_Drive/Datascience/Galvanize/Project/wakeful_proj'"
      ]
     },
     "execution_count": 2,
     "metadata": {},
     "output_type": "execute_result"
    }
   ],
   "source": [
    "%pwd"
   ]
  },
  {
   "cell_type": "code",
   "execution_count": null,
   "metadata": {},
   "outputs": [],
   "source": []
  }
 ],
 "metadata": {
  "kernelspec": {
   "display_name": "Python 3",
   "language": "python",
   "name": "python3"
  },
  "language_info": {
   "codemirror_mode": {
    "name": "ipython",
    "version": 3
   },
   "file_extension": ".py",
   "mimetype": "text/x-python",
   "name": "python",
   "nbconvert_exporter": "python",
   "pygments_lexer": "ipython3",
   "version": "3.6.3"
  }
 },
 "nbformat": 4,
 "nbformat_minor": 2
}
