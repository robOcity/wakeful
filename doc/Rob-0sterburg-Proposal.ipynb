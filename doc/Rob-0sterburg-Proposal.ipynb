{
 "cells": [
  {
   "cell_type": "markdown",
   "metadata": {},
   "source": [
    "# NetBAT - Network Behavioral Analytics Tool\n",
    "\n",
    "Rob Osterburg, Galvanize Data Science Immersive Project Proposal"
   ]
  },
  {
   "cell_type": "markdown",
   "metadata": {},
   "source": [
    "### Motivation\n",
    "\n",
    "Incident response is what happens after a security breach, and not surprisingly is a growing sector of the information security business.  Mandiant is a leading incident response company and has resolved many breaches including:  Equifax, the Clinton Campaign, and Target.  They report that **attackers in the U.S. go undetected for more than 3 months on average**.  During this time attackers need to maintain a presence inside the compromised network and to ship data out.  All this traffic must go through whatever protections the organization has in place.  My project focuses on detecting these signals before the objective of the attack is obtained.  \n",
    "\n",
    "![Idealized attack against a retail target with malware rendered in red.](/Users/rob/Google_Drive/Datascience/Galvanize/Project/wakeful/images/retail_attack_malware_deployment.png)\n",
    "\n",
    "MIT AI2 system is the for inspiration for my project.   \n",
    "\n",
    "In the *The Innovators*, Walter Isaacson asks:\n",
    "\n",
    ">\"is it possible that humans and machines working in partnership will be indefinitely more powerful than an artificial intelligence machine working alone?” \n",
    "\n",
    "I believe the answer it **yes** and MIT is currently applying this idea to network security.  Their AI2 system uses unsupervised learning to make recommendations to an analyst who labels the events as either normal or attack.  A supervised learning algorithm then uses the labeled data to improve the selection of future analyst alerts.\n",
    "\n",
    "[MIT AI2 with analyst empowered by machine learning](http://news.mit.edu/2016/ai-system-predicts-85-percent-cyber-attacks-using-input-human-experts-0418). \n",
    "\n",
    "![MIT AI^2 system](/Users/rob/Google_Drive/Datascience/Galvanize/Project/wakeful/images/overall_solution_context.png)\n"
   ]
  },
  {
   "cell_type": "markdown",
   "metadata": {},
   "source": [
    "### Data\n",
    "[Security Onion](https://securityonion.net) is a distribution of Linux focused on network monitoring.  Developed and maintained by the incident responders at Mandiant, SO includes tools to gather and analyze network traffic, and one in particular - [Bro Security Network Monitor (BSNM)](https://www.bro.org/) - is perfect for feature engineering.  BSNM understands network protocols and produces log files for each. \n",
    "\n",
    "I was unable to find a set of labeled data to use for this project.  So, I decided to gather data from my own home network, and use it to represent normal data.  After a couple of weeks, I now have ~40,000 DNS and ~80,000 connection log entries.  Beyond simply logging the traffic SO gives you means to investigate events using both beohavior-based ([BSNM](https://www.bro.org/)) and signature-based ([Snort](https://www.snort.org/)) detection tools.  Investigating my own network, I found one computer that appeared to have malware and have since wiped and re-imaged the system.  Now that my network appears to be free of malware, I think my plan to label its DNS traffic normal is reasonable.  \n",
    "\n",
    "Eric Conrad is a [SANS instructor](https://www.sans.org/instructors/eric-conrad/date/desc/) and the CTO for a security company recently gave a talk on how malware communicates with its command and control (C2) server using DNS tunneling.  His [talk at Security Onion Con 2016](https://youtu.be/ViR405l-ggg) and his [related blog post](http://www.ericconrad.com/2016/09/c2-phone-home-leveraging-securityonion.html) includes links to BSNM logs for four different malicious uses of DNS including both tunneling and C2 communications and contain ~6,500 DNS and ~3,500 connection log entries.  I plan on using these data as the basis for my attack data.\n",
    "\n",
    "I plan will have an EDA of these data sets completed by Monday morning Jan 8.  \n",
    "\n",
    "\n",
    "#### Feature Engineering\n",
    "\n",
    "* Why the focus on DNS: DNS answers the question of what IP address has been assigned to a URL.  By design, if a query can't answered locally it is forwarded to the root server for that top-level domain, and then recursively on down to an authoritative server.  DNS is an essential service for any organization and is rarely monitored. Even from deep within a organizations network most systems have DNS access and the forwarding behavior of this protocol enables DNS packets to reach the internet.  Just as the DNS response packets are let back in. This makes it a perfect communication channel for attackers.    \n",
    "\n",
    "* Indicators of compromise -- Derived from the YouTube talks listed in the Citations Section.\n",
    "\n",
    "    * DNS Protcol\n",
    "    \n",
    "        * Unusually long query strings\n",
    "        \n",
    "        * TXT, NULL and QUERY packets are used to transfer base-64 encoded data\n",
    "        \n",
    "        * NULL packets — used to transfer binary data\n",
    "        \n",
    "        * Large number of requests to hosts or subdomains\n",
    "        \n",
    "        * Length of time URL has been registered (some \"fast flux\" domains change the IPs they are associated with every ~150 seconds)\n",
    "        \n",
    "        * Rate of queries from a source IP address visits is much higher than average\n",
    "        \n",
    "        * False positives include Amazon URLs and others that use a hash as the subdomain\n",
    "        \n",
    "    * ICMP Protocol\n",
    "    \n",
    "        * Data portion differs from what the various OS ping implementations send\n",
    "        \n",
    "        * Packet size is large (i.e., greater than 200 or 400 bytes)\n",
    "        \n",
    "        * Rate is more rapid than once per second\n"
   ]
  },
  {
   "cell_type": "markdown",
   "metadata": {},
   "source": [
    "### Minimum Viable Product\n",
    "\n",
    "* Extract data from the BNSM DNS and connection logs\n",
    "\n",
    "* Classify DNS packets as Normal, Attack and Uncertain \n",
    "\n",
    "* Assemble a set of reasonably representative data from the sources cited in the Data Section\n",
    "\n",
    "* Select a supervised model for classifying events as normal, uncertain or attack.  Ideas: hierarchical model, random forest or gradient boosting\n",
    "\n",
    "* Prefer a model whose results will be informative to non-data-scientists\n",
    "\n",
    "#### MVP+\n",
    "\n",
    "* Metric to quantify how much better the model performs in comparison to blacklist, whitelist or simple rule-based approaches\n",
    "    \n",
    "#### MVP++\n",
    "\n",
    "* Develop a similar model for the ICMP protocol"
   ]
  },
  {
   "cell_type": "markdown",
   "metadata": {},
   "source": [
    "### Deliverables\n",
    "* Python code to process the logs and to model the data\n",
    "* Repository with the code, tests, example data, findings and a presentation\n"
   ]
  },
  {
   "cell_type": "markdown",
   "metadata": {},
   "source": [
    "### Business Value\n",
    "\n",
    "Blacklisting and whitelisting are core practices to security and IT practitioners.  The idea goes back to firewalls which must either pass a packet or block it.  Anything on the whitelist is passed, while anything on the blacklist is blocked.  By evaluating my project in comparison to a blacklist/whitelist approach, I hope to make its results accessible to professionals in an industry where I hope to be hired.\n",
    "\n",
    "How can we apply the blacklist / whitelist idea to DNS attack traffic?  If the security team at an organization uses a blacklist approach where they maintain a list of blocked URLs. In so doing, they give the attacker the advantage by allowing them to make small changes to domain names they use to avoid having their traffic from being blocked.  Whitelists on the other hand also disadvantage the security team because in addition to finding the malicious traffic, they also produce a lot of false positives.  Security teams tend to be lean because they are overhead expense to the organization that makes the impact of a whitelist approach is all the more.\n",
    "\n",
    "I believe that machine learning approach based on protocol-specific behavior provides value over both the blacklist and whitelist approaches, here is why:\n",
    "\n",
    "* Machine learning is better than the blacklist approach because it results in higher recall (i.e., fewer false negatives) by learning to detect and block similar malicious traffic with minimal human intervention.\n",
    "\n",
    "* Machine learning is also better than the whitelist approach by higher precision (i.e., fewer false positives) by learning to detect similar normal traffic.    "
   ]
  },
  {
   "cell_type": "markdown",
   "metadata": {},
   "source": [
    "### Citations\n",
    "* [Security Onion 2016: C2 Phone Home - Eric Conrad](https://youtu.be/ViR405l-ggg)\n",
    "* [Chris McCubbin,  Machine learning applied to Bro](https://youtu.be/ZV5Ckf9wLrc)\n",
    "* [Data Analysis, Machine Learning, Bro, and You! by Brian Wylie](https://youtu.be/pG5lU9CLnIU)\n",
    "* [BNSM DNS Log Documentation](https://www.bro.org/sphinx/scripts/base/protocols/dns/main.bro.html#type-DNS::Info)\n",
    "* [BNSM ICMP Log Documentation](https://www.bro.org/sphinx/scripts/base/bif/plugins/Bro_ICMP.events.bif.bro.html)\n",
    "* [BNSM Conn Log Documentation](https://www.bro.org/sphinx/scripts/base/protocols/conn/main.bro.html#type-Conn::Info)\n"
   ]
  },
  {
   "cell_type": "markdown",
   "metadata": {},
   "source": [
    "#### DNS Log\n",
    "\n",
    "![DNS Log Fields](/Users/rob/Google_Drive/Datascience/Galvanize/Project/wakeful/images/dns-log-fields.png)\n",
    "\n",
    "![DNS Log Example](/Users/rob/Google_Drive/Datascience/Galvanize/Project/wakeful/images/dns-log-example.png)\n",
    "\n",
    "#### Connection Log\n",
    "\n",
    "![Conn Log Fields](/Users/rob/Google_Drive/Datascience/Galvanize/Project/wakeful/images/conn-log-fields.png)\n",
    "\n",
    "![Conn Log Example](/Users/rob/Google_Drive/Datascience/Galvanize/Project/wakeful/images/conn-log-example.png)\n",
    " \n",
    "Note: These logs can be joined using the connection ID.  \n"
   ]
  },
  {
   "cell_type": "code",
   "execution_count": null,
   "metadata": {},
   "outputs": [],
   "source": []
  }
 ],
 "metadata": {
  "celltoolbar": "Attachments",
  "kernelspec": {
   "display_name": "Python 3",
   "language": "python",
   "name": "python3"
  },
  "language_info": {
   "codemirror_mode": {
    "name": "ipython",
    "version": 3
   },
   "file_extension": ".py",
   "mimetype": "text/x-python",
   "name": "python",
   "nbconvert_exporter": "python",
   "pygments_lexer": "ipython3",
   "version": "3.6.3"
  }
 },
 "nbformat": 4,
 "nbformat_minor": 2
}
