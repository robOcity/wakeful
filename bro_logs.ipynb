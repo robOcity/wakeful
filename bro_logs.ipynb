{
 "cells": [
  {
   "cell_type": "code",
   "execution_count": 4,
   "metadata": {},
   "outputs": [],
   "source": [
    "import pandas as pd\n",
    "from wakeful import log_munger"
   ]
  },
  {
   "cell_type": "code",
   "execution_count": 5,
   "metadata": {},
   "outputs": [
    {
     "ename": "OSError",
     "evalue": "Could not read/access bro log file: data/home/dns.03:00:00-04:00:00.log",
     "output_type": "error",
     "traceback": [
      "\u001b[0;31m---------------------------------------------------------------------------\u001b[0m",
      "\u001b[0;31mOSError\u001b[0m                                   Traceback (most recent call last)",
      "\u001b[0;32m<ipython-input-5-f0eee235da19>\u001b[0m in \u001b[0;36m<module>\u001b[0;34m()\u001b[0m\n\u001b[0;32m----> 1\u001b[0;31m \u001b[0mdns_norm_df\u001b[0m \u001b[0;34m=\u001b[0m \u001b[0mlog_munger\u001b[0m\u001b[0;34m.\u001b[0m\u001b[0mbro_logs_to_df\u001b[0m\u001b[0;34m(\u001b[0m\u001b[0;34m'data/home'\u001b[0m\u001b[0;34m,\u001b[0m \u001b[0;34m'dns'\u001b[0m\u001b[0;34m)\u001b[0m\u001b[0;34m\u001b[0m\u001b[0m\n\u001b[0m",
      "\u001b[0;32m~/Google_Drive/Datascience/Galvanize/Project/wakeful_proj/wakeful/log_munger.py\u001b[0m in \u001b[0;36mbro_logs_to_df\u001b[0;34m(top_level_dir, log_type)\u001b[0m\n\u001b[1;32m     24\u001b[0m     \u001b[0mdf\u001b[0m \u001b[0;34m=\u001b[0m \u001b[0mpd\u001b[0m\u001b[0;34m.\u001b[0m\u001b[0mDataFrame\u001b[0m\u001b[0;34m(\u001b[0m\u001b[0;34m)\u001b[0m\u001b[0;34m\u001b[0m\u001b[0m\n\u001b[1;32m     25\u001b[0m     \u001b[0;32mfor\u001b[0m \u001b[0mlog\u001b[0m \u001b[0;32min\u001b[0m \u001b[0mlogs\u001b[0m\u001b[0;34m:\u001b[0m\u001b[0;34m\u001b[0m\u001b[0m\n\u001b[0;32m---> 26\u001b[0;31m         \u001b[0mlog_df\u001b[0m \u001b[0;34m=\u001b[0m \u001b[0mbro_log_to_df\u001b[0m\u001b[0;34m(\u001b[0m\u001b[0mlog\u001b[0m\u001b[0;34m)\u001b[0m\u001b[0;34m\u001b[0m\u001b[0m\n\u001b[0m\u001b[1;32m     27\u001b[0m         \u001b[0;31m# TODO: Improve getting pandas.DataFrame from bat.log_to_dataframe.LogToDataFrame\u001b[0m\u001b[0;34m\u001b[0m\u001b[0;34m\u001b[0m\u001b[0m\n\u001b[1;32m     28\u001b[0m         \u001b[0mpandas_df\u001b[0m \u001b[0;34m=\u001b[0m \u001b[0mlog_df\u001b[0m\u001b[0;34m.\u001b[0m\u001b[0mdropna\u001b[0m\u001b[0;34m(\u001b[0m\u001b[0maxis\u001b[0m\u001b[0;34m=\u001b[0m\u001b[0;36m1\u001b[0m\u001b[0;34m)\u001b[0m\u001b[0;34m\u001b[0m\u001b[0m\n",
      "\u001b[0;32m~/Google_Drive/Datascience/Galvanize/Project/wakeful_proj/wakeful/log_munger.py\u001b[0m in \u001b[0;36mbro_log_to_df\u001b[0;34m(file_path)\u001b[0m\n\u001b[1;32m     10\u001b[0m     \u001b[0;34m:\u001b[0m\u001b[0;32mreturn\u001b[0m\u001b[0;34m:\u001b[0m \u001b[0mpandas\u001b[0m \u001b[0mDataFrame\u001b[0m \u001b[0mobject\u001b[0m\u001b[0;34m\u001b[0m\u001b[0m\n\u001b[1;32m     11\u001b[0m     \"\"\"\n\u001b[0;32m---> 12\u001b[0;31m     \u001b[0;32mreturn\u001b[0m \u001b[0mLogToDataFrame\u001b[0m\u001b[0;34m(\u001b[0m\u001b[0mfile_path\u001b[0m\u001b[0;34m)\u001b[0m\u001b[0;34m\u001b[0m\u001b[0m\n\u001b[0m\u001b[1;32m     13\u001b[0m \u001b[0;34m\u001b[0m\u001b[0m\n\u001b[1;32m     14\u001b[0m \u001b[0;34m\u001b[0m\u001b[0m\n",
      "\u001b[0;32m~/anaconda3/lib/python3.6/site-packages/bat/log_to_dataframe.py\u001b[0m in \u001b[0;36m__init__\u001b[0;34m(self, log_filename, ts_index)\u001b[0m\n\u001b[1;32m     22\u001b[0m \u001b[0;34m\u001b[0m\u001b[0m\n\u001b[1;32m     23\u001b[0m         \u001b[0;31m# Create a bro reader on a given log file\u001b[0m\u001b[0;34m\u001b[0m\u001b[0;34m\u001b[0m\u001b[0m\n\u001b[0;32m---> 24\u001b[0;31m         \u001b[0mreader\u001b[0m \u001b[0;34m=\u001b[0m \u001b[0mbro_log_reader\u001b[0m\u001b[0;34m.\u001b[0m\u001b[0mBroLogReader\u001b[0m\u001b[0;34m(\u001b[0m\u001b[0mlog_filename\u001b[0m\u001b[0;34m)\u001b[0m\u001b[0;34m\u001b[0m\u001b[0m\n\u001b[0m\u001b[1;32m     25\u001b[0m \u001b[0;34m\u001b[0m\u001b[0m\n\u001b[1;32m     26\u001b[0m         \u001b[0;31m# Create a Pandas dataframe from reader\u001b[0m\u001b[0;34m\u001b[0m\u001b[0;34m\u001b[0m\u001b[0m\n",
      "\u001b[0;32m~/anaconda3/lib/python3.6/site-packages/bat/bro_log_reader.py\u001b[0m in \u001b[0;36m__init__\u001b[0;34m(self, filepath, delimiter, tail, strict)\u001b[0m\n\u001b[1;32m     34\u001b[0m         \u001b[0;31m# First check if the file exists and is readable\u001b[0m\u001b[0;34m\u001b[0m\u001b[0;34m\u001b[0m\u001b[0m\n\u001b[1;32m     35\u001b[0m         \u001b[0;32mif\u001b[0m \u001b[0;32mnot\u001b[0m \u001b[0mos\u001b[0m\u001b[0;34m.\u001b[0m\u001b[0maccess\u001b[0m\u001b[0;34m(\u001b[0m\u001b[0mfilepath\u001b[0m\u001b[0;34m,\u001b[0m \u001b[0mos\u001b[0m\u001b[0;34m.\u001b[0m\u001b[0mR_OK\u001b[0m\u001b[0;34m)\u001b[0m\u001b[0;34m:\u001b[0m\u001b[0;34m\u001b[0m\u001b[0m\n\u001b[0;32m---> 36\u001b[0;31m             \u001b[0;32mraise\u001b[0m \u001b[0mIOError\u001b[0m\u001b[0;34m(\u001b[0m\u001b[0;34m'Could not read/access bro log file: {:s}'\u001b[0m\u001b[0;34m.\u001b[0m\u001b[0mformat\u001b[0m\u001b[0;34m(\u001b[0m\u001b[0mfilepath\u001b[0m\u001b[0;34m)\u001b[0m\u001b[0;34m)\u001b[0m\u001b[0;34m\u001b[0m\u001b[0m\n\u001b[0m\u001b[1;32m     37\u001b[0m \u001b[0;34m\u001b[0m\u001b[0m\n\u001b[1;32m     38\u001b[0m         \u001b[0;31m# Setup some class instance vars\u001b[0m\u001b[0;34m\u001b[0m\u001b[0;34m\u001b[0m\u001b[0m\n",
      "\u001b[0;31mOSError\u001b[0m: Could not read/access bro log file: data/home/dns.03:00:00-04:00:00.log"
     ]
    }
   ],
   "source": [
    "dns_norm_df = log_munger.bro_logs_to_df('data/home', 'dns')"
   ]
  },
  {
   "cell_type": "code",
   "execution_count": null,
   "metadata": {},
   "outputs": [],
   "source": [
    "dns_norm_df = log_munger.bro_logs_to_df"
   ]
  },
  {
   "cell_type": "code",
   "execution_count": null,
   "metadata": {},
   "outputs": [],
   "source": [
    "dns_norm_df = log_munger.bro_logs_to_df"
   ]
  },
  {
   "cell_type": "code",
   "execution_count": 15,
   "metadata": {},
   "outputs": [
    {
     "name": "stdout",
     "output_type": "stream",
     "text": [
      "<class 'bat.log_to_dataframe.LogToDataFrame'>\n",
      "DatetimeIndex: 224 entries, 2017-12-22 12:49:25.247093 to 2017-12-22 12:59:57.385197\n",
      "Data columns (total 23 columns):\n",
      "AA             224 non-null bool\n",
      "RA             224 non-null bool\n",
      "RD             224 non-null bool\n",
      "TC             224 non-null bool\n",
      "TTLs           224 non-null object\n",
      "Z              224 non-null int64\n",
      "answers        224 non-null object\n",
      "id.orig_h      224 non-null object\n",
      "id.orig_p      224 non-null int64\n",
      "id.resp_h      224 non-null object\n",
      "id.resp_p      224 non-null int64\n",
      "proto          224 non-null object\n",
      "qclass         224 non-null int64\n",
      "qclass_name    224 non-null object\n",
      "qtype          224 non-null int64\n",
      "qtype_name     224 non-null object\n",
      "query          224 non-null object\n",
      "rcode          224 non-null int64\n",
      "rcode_name     224 non-null object\n",
      "rejected       224 non-null bool\n",
      "rtt            224 non-null timedelta64[ns]\n",
      "trans_id       224 non-null int64\n",
      "uid            224 non-null object\n",
      "dtypes: bool(5), int64(7), object(10), timedelta64[ns](1)\n",
      "memory usage: 34.3+ KB\n"
     ]
    }
   ],
   "source": [
    "print(dns_df.shape)\n",
    "dns_df.info()"
   ]
  },
  {
   "cell_type": "code",
   "execution_count": 14,
   "metadata": {},
   "outputs": [
    {
     "name": "stdout",
     "output_type": "stream",
     "text": [
      "<class 'bat.log_to_dataframe.LogToDataFrame'>\n",
      "DatetimeIndex: 413 entries, 2017-12-22 12:49:30.218975 to 2017-12-22 12:59:47.559851\n",
      "Data columns (total 23 columns):\n",
      "conn_state        413 non-null object\n",
      "duration          413 non-null timedelta64[ns]\n",
      "history           413 non-null object\n",
      "id.orig_h         413 non-null object\n",
      "id.orig_p         413 non-null int64\n",
      "id.resp_h         413 non-null object\n",
      "id.resp_p         413 non-null int64\n",
      "local_orig        413 non-null bool\n",
      "local_resp        413 non-null bool\n",
      "missed_bytes      413 non-null int64\n",
      "orig_bytes        413 non-null int64\n",
      "orig_cc           413 non-null object\n",
      "orig_ip_bytes     413 non-null int64\n",
      "orig_pkts         413 non-null int64\n",
      "proto             413 non-null object\n",
      "resp_bytes        413 non-null int64\n",
      "resp_cc           413 non-null object\n",
      "resp_ip_bytes     413 non-null int64\n",
      "resp_pkts         413 non-null int64\n",
      "sensorname        413 non-null object\n",
      "service           413 non-null object\n",
      "tunnel_parents    413 non-null object\n",
      "uid               413 non-null object\n",
      "dtypes: bool(2), int64(9), object(11), timedelta64[ns](1)\n",
      "memory usage: 71.8+ KB\n"
     ]
    }
   ],
   "source": [
    "conn_df.info()"
   ]
  },
  {
   "cell_type": "code",
   "execution_count": 20,
   "metadata": {},
   "outputs": [
    {
     "data": {
      "text/plain": [
       "(413, 23)"
      ]
     },
     "execution_count": 20,
     "metadata": {},
     "output_type": "execute_result"
    }
   ],
   "source": [
    "conn_df.shape"
   ]
  },
  {
   "cell_type": "code",
   "execution_count": null,
   "metadata": {},
   "outputs": [],
   "source": []
  }
 ],
 "metadata": {
  "kernelspec": {
   "display_name": "Python 3",
   "language": "python",
   "name": "python3"
  },
  "language_info": {
   "codemirror_mode": {
    "name": "ipython",
    "version": 3
   },
   "file_extension": ".py",
   "mimetype": "text/x-python",
   "name": "python",
   "nbconvert_exporter": "python",
   "pygments_lexer": "ipython3",
   "version": "3.6.3"
  }
 },
 "nbformat": 4,
 "nbformat_minor": 2
}
