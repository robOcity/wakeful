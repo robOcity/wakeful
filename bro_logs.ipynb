{
 "cells": [
  {
   "cell_type": "code",
   "execution_count": 1,
   "metadata": {},
   "outputs": [],
   "source": [
    "import pandas as pd\n",
    "from wakeful import log_munger"
   ]
  },
  {
   "cell_type": "code",
   "execution_count": 2,
   "metadata": {},
   "outputs": [
    {
     "data": {
      "text/plain": [
       "'/Users/rob/Google_Drive/Datascience/Galvanize/Project/wakeful_proj'"
      ]
     },
     "execution_count": 2,
     "metadata": {},
     "output_type": "execute_result"
    }
   ],
   "source": [
    "%pwd"
   ]
  },
  {
   "cell_type": "markdown",
   "metadata": {},
   "source": [
    "### Build the Normal Data Set"
   ]
  },
  {
   "cell_type": "code",
   "execution_count": 3,
   "metadata": {},
   "outputs": [],
   "source": [
    "norm_path = './data/home/2018-01-01'"
   ]
  },
  {
   "cell_type": "code",
   "execution_count": 4,
   "metadata": {},
   "outputs": [
    {
     "name": "stdout",
     "output_type": "stream",
     "text": [
      "Successfully monitoring ./data/home/2018-01-01/dns.03:00:00-04:00:00.log...\n",
      "Successfully monitoring ./data/home/2018-01-01/dns.16:00:00-17:00:00.log...\n",
      "Successfully monitoring ./data/home/2018-01-01/dns.12:00:00-13:00:00.log...\n",
      "Successfully monitoring ./data/home/2018-01-01/dns.11:00:00-12:00:00.log...\n",
      "Successfully monitoring ./data/home/2018-01-01/dns.15:00:00-16:00:00.log...\n",
      "Successfully monitoring ./data/home/2018-01-01/dns.17:00:00-18:00:00.log...\n",
      "Successfully monitoring ./data/home/2018-01-01/dns.08:00:00-09:00:00.log...\n",
      "Successfully monitoring ./data/home/2018-01-01/dns.14:00:00-15:00:00.log...\n",
      "Successfully monitoring ./data/home/2018-01-01/dns.10:00:00-11:00:00.log...\n",
      "Successfully monitoring ./data/home/2018-01-01/dns.19:00:00-20:00:00.log...\n",
      "Successfully monitoring ./data/home/2018-01-01/dns.02:00:00-03:00:00.log...\n",
      "Successfully monitoring ./data/home/2018-01-01/dns.06:00:00-07:00:00.log...\n",
      "Successfully monitoring ./data/home/2018-01-01/dns.20:00:00-21:00:00.log...\n",
      "Successfully monitoring ./data/home/2018-01-01/dns.09:00:00-10:00:00.log...\n",
      "Successfully monitoring ./data/home/2018-01-01/dns.21:00:00-22:00:00.log...\n",
      "Successfully monitoring ./data/home/2018-01-01/dns.13:00:00-14:00:00.log...\n",
      "Successfully monitoring ./data/home/2018-01-01/dns.23:00:00-00:00:00.log...\n",
      "Successfully monitoring ./data/home/2018-01-01/dns.18:00:00-19:00:00.log...\n",
      "Successfully monitoring ./data/home/2018-01-01/dns.00:00:00-01:00:00.log...\n",
      "Successfully monitoring ./data/home/2018-01-01/dns.04:00:00-05:00:00.log...\n",
      "Successfully monitoring ./data/home/2018-01-01/dns.22:00:00-23:00:00.log...\n",
      "Successfully monitoring ./data/home/2018-01-01/dns.07:00:00-08:00:00.log...\n",
      "Successfully monitoring ./data/home/2018-01-01/dns.05:00:00-06:00:00.log...\n",
      "Successfully monitoring ./data/home/2018-01-01/dns.01:00:00-02:00:00.log...\n"
     ]
    }
   ],
   "source": [
    "dns_norm_df = log_munger.bro_logs_to_df(norm_path, 'dns');"
   ]
  },
  {
   "cell_type": "code",
   "execution_count": 5,
   "metadata": {},
   "outputs": [
    {
     "name": "stdout",
     "output_type": "stream",
     "text": [
      "(34789, 23)\n"
     ]
    }
   ],
   "source": [
    "print(dns_norm_df.shape)"
   ]
  },
  {
   "cell_type": "code",
   "execution_count": 6,
   "metadata": {},
   "outputs": [
    {
     "name": "stdout",
     "output_type": "stream",
     "text": [
      "<class 'pandas.core.frame.DataFrame'>\n",
      "DatetimeIndex: 34789 entries, 2017-12-31 20:00:06.032915 to 2017-12-31 18:59:50.455547\n",
      "Data columns (total 23 columns):\n",
      "AA             34789 non-null bool\n",
      "RA             34789 non-null bool\n",
      "RD             34789 non-null bool\n",
      "TC             34789 non-null bool\n",
      "TTLs           34789 non-null object\n",
      "Z              34789 non-null int64\n",
      "answers        34789 non-null object\n",
      "id.orig_h      34789 non-null object\n",
      "id.orig_p      34789 non-null int64\n",
      "id.resp_h      34789 non-null object\n",
      "id.resp_p      34789 non-null int64\n",
      "proto          34789 non-null object\n",
      "qclass         34789 non-null int64\n",
      "qclass_name    34789 non-null object\n",
      "qtype          34789 non-null int64\n",
      "qtype_name     34789 non-null object\n",
      "query          34789 non-null object\n",
      "rcode          34789 non-null int64\n",
      "rcode_name     34789 non-null object\n",
      "rejected       34789 non-null bool\n",
      "rtt            34789 non-null timedelta64[ns]\n",
      "trans_id       34789 non-null int64\n",
      "uid            34789 non-null object\n",
      "dtypes: bool(5), int64(7), object(10), timedelta64[ns](1)\n",
      "memory usage: 5.2+ MB\n"
     ]
    }
   ],
   "source": [
    "dns_norm_df.info()"
   ]
  },
  {
   "cell_type": "code",
   "execution_count": 7,
   "metadata": {},
   "outputs": [
    {
     "name": "stdout",
     "output_type": "stream",
     "text": [
      "Successfully monitoring ./data/home/2018-01-01/conn.12:00:00-13:00:00.log...\n",
      "Successfully monitoring ./data/home/2018-01-01/conn.16:00:00-17:00:00.log...\n",
      "Successfully monitoring ./data/home/2018-01-01/conn.03:00:00-04:00:00.log...\n",
      "Successfully monitoring ./data/home/2018-01-01/conn.08:00:00-09:00:00.log...\n",
      "Successfully monitoring ./data/home/2018-01-01/conn.10:00:00-11:00:00.log...\n",
      "Successfully monitoring ./data/home/2018-01-01/conn.14:00:00-15:00:00.log...\n",
      "Successfully monitoring ./data/home/2018-01-01/conn.19:00:00-20:00:00.log...\n",
      "Successfully monitoring ./data/home/2018-01-01/conn.15:00:00-16:00:00.log...\n",
      "Successfully monitoring ./data/home/2018-01-01/conn.11:00:00-12:00:00.log...\n",
      "Successfully monitoring ./data/home/2018-01-01/conn.17:00:00-18:00:00.log...\n",
      "Successfully monitoring ./data/home/2018-01-01/conn.21:00:00-22:00:00.log...\n",
      "Successfully monitoring ./data/home/2018-01-01/conn.13:00:00-14:00:00.log...\n",
      "Successfully monitoring ./data/home/2018-01-01/conn.23:00:00-00:00:00.log...\n",
      "Successfully monitoring ./data/home/2018-01-01/conn.20:00:00-21:00:00.log...\n",
      "Successfully monitoring ./data/home/2018-01-01/conn.06:00:00-07:00:00.log...\n",
      "Successfully monitoring ./data/home/2018-01-01/conn.02:00:00-03:00:00.log...\n",
      "Successfully monitoring ./data/home/2018-01-01/conn.09:00:00-10:00:00.log...\n",
      "Successfully monitoring ./data/home/2018-01-01/conn.07:00:00-08:00:00.log...\n",
      "Successfully monitoring ./data/home/2018-01-01/conn.01:00:00-02:00:00.log...\n",
      "Successfully monitoring ./data/home/2018-01-01/conn.05:00:00-06:00:00.log...\n",
      "Successfully monitoring ./data/home/2018-01-01/conn.18:00:00-19:00:00.log...\n",
      "Successfully monitoring ./data/home/2018-01-01/conn.22:00:00-23:00:00.log...\n",
      "Successfully monitoring ./data/home/2018-01-01/conn.04:00:00-05:00:00.log...\n",
      "Successfully monitoring ./data/home/2018-01-01/conn.00:00:00-01:00:00.log...\n"
     ]
    }
   ],
   "source": [
    "conn_norm_df = log_munger.bro_logs_to_df(norm_path, 'conn');"
   ]
  },
  {
   "cell_type": "code",
   "execution_count": 8,
   "metadata": {},
   "outputs": [
    {
     "data": {
      "text/plain": [
       "(58264, 23)"
      ]
     },
     "execution_count": 8,
     "metadata": {},
     "output_type": "execute_result"
    }
   ],
   "source": [
    "conn_norm_df.shape"
   ]
  },
  {
   "cell_type": "code",
   "execution_count": 9,
   "metadata": {},
   "outputs": [
    {
     "name": "stdout",
     "output_type": "stream",
     "text": [
      "<class 'pandas.core.frame.DataFrame'>\n",
      "DatetimeIndex: 58264 entries, 2018-01-01 04:58:54.140342 to 2017-12-31 17:58:57.102639\n",
      "Data columns (total 23 columns):\n",
      "conn_state        58264 non-null object\n",
      "duration          58264 non-null timedelta64[ns]\n",
      "history           58264 non-null object\n",
      "id.orig_h         58264 non-null object\n",
      "id.orig_p         58264 non-null int64\n",
      "id.resp_h         58264 non-null object\n",
      "id.resp_p         58264 non-null int64\n",
      "local_orig        58264 non-null bool\n",
      "local_resp        58264 non-null bool\n",
      "missed_bytes      58264 non-null int64\n",
      "orig_bytes        58264 non-null int64\n",
      "orig_cc           58264 non-null object\n",
      "orig_ip_bytes     58264 non-null int64\n",
      "orig_pkts         58264 non-null int64\n",
      "proto             58264 non-null object\n",
      "resp_bytes        58264 non-null int64\n",
      "resp_cc           58264 non-null object\n",
      "resp_ip_bytes     58264 non-null int64\n",
      "resp_pkts         58264 non-null int64\n",
      "sensorname        58264 non-null object\n",
      "service           58264 non-null object\n",
      "tunnel_parents    58264 non-null object\n",
      "uid               58264 non-null object\n",
      "dtypes: bool(2), int64(9), object(11), timedelta64[ns](1)\n",
      "memory usage: 9.9+ MB\n"
     ]
    }
   ],
   "source": [
    "conn_norm_df.info()"
   ]
  },
  {
   "cell_type": "code",
   "execution_count": 10,
   "metadata": {},
   "outputs": [
    {
     "name": "stdout",
     "output_type": "stream",
     "text": [
      "<class 'pandas.core.frame.DataFrame'>\n",
      "DatetimeIndex: 34789 entries, 2017-12-31 20:00:06.032915 to 2017-12-31 18:59:50.455547\n",
      "Data columns (total 23 columns):\n",
      "AA             34789 non-null bool\n",
      "RA             34789 non-null bool\n",
      "RD             34789 non-null bool\n",
      "TC             34789 non-null bool\n",
      "TTLs           34789 non-null object\n",
      "Z              34789 non-null int64\n",
      "answers        34789 non-null object\n",
      "id.orig_h      34789 non-null object\n",
      "id.orig_p      34789 non-null int64\n",
      "id.resp_h      34789 non-null object\n",
      "id.resp_p      34789 non-null int64\n",
      "proto          34789 non-null object\n",
      "qclass         34789 non-null int64\n",
      "qclass_name    34789 non-null object\n",
      "qtype          34789 non-null int64\n",
      "qtype_name     34789 non-null object\n",
      "query          34789 non-null object\n",
      "rcode          34789 non-null int64\n",
      "rcode_name     34789 non-null object\n",
      "rejected       34789 non-null bool\n",
      "rtt            34789 non-null timedelta64[ns]\n",
      "trans_id       34789 non-null int64\n",
      "uid            34789 non-null object\n",
      "dtypes: bool(5), int64(7), object(10), timedelta64[ns](1)\n",
      "memory usage: 5.2+ MB\n"
     ]
    }
   ],
   "source": [
    "dns_norm_df.info()"
   ]
  },
  {
   "cell_type": "code",
   "execution_count": 11,
   "metadata": {},
   "outputs": [
    {
     "data": {
      "text/html": [
       "<div>\n",
       "<style scoped>\n",
       "    .dataframe tbody tr th:only-of-type {\n",
       "        vertical-align: middle;\n",
       "    }\n",
       "\n",
       "    .dataframe tbody tr th {\n",
       "        vertical-align: top;\n",
       "    }\n",
       "\n",
       "    .dataframe thead th {\n",
       "        text-align: right;\n",
       "    }\n",
       "</style>\n",
       "<table border=\"1\" class=\"dataframe\">\n",
       "  <thead>\n",
       "    <tr style=\"text-align: right;\">\n",
       "      <th></th>\n",
       "      <th>AA</th>\n",
       "      <th>RA</th>\n",
       "      <th>RD</th>\n",
       "      <th>TC</th>\n",
       "      <th>TTLs</th>\n",
       "      <th>Z</th>\n",
       "      <th>answers</th>\n",
       "      <th>id.orig_h</th>\n",
       "      <th>id.orig_p</th>\n",
       "      <th>id.resp_h</th>\n",
       "      <th>...</th>\n",
       "      <th>qclass_name</th>\n",
       "      <th>qtype</th>\n",
       "      <th>qtype_name</th>\n",
       "      <th>query</th>\n",
       "      <th>rcode</th>\n",
       "      <th>rcode_name</th>\n",
       "      <th>rejected</th>\n",
       "      <th>rtt</th>\n",
       "      <th>trans_id</th>\n",
       "      <th>uid</th>\n",
       "    </tr>\n",
       "    <tr>\n",
       "      <th>ts</th>\n",
       "      <th></th>\n",
       "      <th></th>\n",
       "      <th></th>\n",
       "      <th></th>\n",
       "      <th></th>\n",
       "      <th></th>\n",
       "      <th></th>\n",
       "      <th></th>\n",
       "      <th></th>\n",
       "      <th></th>\n",
       "      <th></th>\n",
       "      <th></th>\n",
       "      <th></th>\n",
       "      <th></th>\n",
       "      <th></th>\n",
       "      <th></th>\n",
       "      <th></th>\n",
       "      <th></th>\n",
       "      <th></th>\n",
       "      <th></th>\n",
       "      <th></th>\n",
       "    </tr>\n",
       "  </thead>\n",
       "  <tbody>\n",
       "    <tr>\n",
       "      <th>2017-12-31 20:00:06.032915</th>\n",
       "      <td>True</td>\n",
       "      <td>False</td>\n",
       "      <td>False</td>\n",
       "      <td>False</td>\n",
       "      <td>120.000000,120.000000,120.000000,120.000000</td>\n",
       "      <td>0</td>\n",
       "      <td>dvr-40e5.local,dvr-40e5.local,192.168.1.222,dv...</td>\n",
       "      <td>192.168.1.222</td>\n",
       "      <td>5353</td>\n",
       "      <td>224.0.0.251</td>\n",
       "      <td>...</td>\n",
       "      <td>C_INTERNET</td>\n",
       "      <td>33</td>\n",
       "      <td>SRV</td>\n",
       "      <td>clearwater beach._tivo-mindrpc._tcp.local</td>\n",
       "      <td>0</td>\n",
       "      <td>NOERROR</td>\n",
       "      <td>False</td>\n",
       "      <td>00:00:00.101251</td>\n",
       "      <td>0</td>\n",
       "      <td>C1iQkS2Sq7qiVN9kBb</td>\n",
       "    </tr>\n",
       "    <tr>\n",
       "      <th>2017-12-31 20:00:19.509455</th>\n",
       "      <td>False</td>\n",
       "      <td>False</td>\n",
       "      <td>True</td>\n",
       "      <td>False</td>\n",
       "      <td>-</td>\n",
       "      <td>0</td>\n",
       "      <td>-</td>\n",
       "      <td>192.168.1.165</td>\n",
       "      <td>41584</td>\n",
       "      <td>192.168.1.1</td>\n",
       "      <td>...</td>\n",
       "      <td>C_INTERNET</td>\n",
       "      <td>1</td>\n",
       "      <td>A</td>\n",
       "      <td>unifi.lan</td>\n",
       "      <td>3</td>\n",
       "      <td>NXDOMAIN</td>\n",
       "      <td>True</td>\n",
       "      <td>00:00:00</td>\n",
       "      <td>37655</td>\n",
       "      <td>C98LABabuv5cCGh</td>\n",
       "    </tr>\n",
       "    <tr>\n",
       "      <th>2017-12-31 20:00:19.510058</th>\n",
       "      <td>False</td>\n",
       "      <td>False</td>\n",
       "      <td>True</td>\n",
       "      <td>False</td>\n",
       "      <td>-</td>\n",
       "      <td>0</td>\n",
       "      <td>-</td>\n",
       "      <td>192.168.1.165</td>\n",
       "      <td>41584</td>\n",
       "      <td>192.168.1.1</td>\n",
       "      <td>...</td>\n",
       "      <td>C_INTERNET</td>\n",
       "      <td>1</td>\n",
       "      <td>A</td>\n",
       "      <td>unifi</td>\n",
       "      <td>0</td>\n",
       "      <td>NOERROR</td>\n",
       "      <td>True</td>\n",
       "      <td>00:00:00</td>\n",
       "      <td>954</td>\n",
       "      <td>C98LABabuv5cCGh</td>\n",
       "    </tr>\n",
       "    <tr>\n",
       "      <th>2017-12-31 20:00:36.804192</th>\n",
       "      <td>False</td>\n",
       "      <td>True</td>\n",
       "      <td>True</td>\n",
       "      <td>False</td>\n",
       "      <td>41.000000,41.000000</td>\n",
       "      <td>0</td>\n",
       "      <td>52.0.132.165,52.0.53.222</td>\n",
       "      <td>192.168.1.117</td>\n",
       "      <td>58913</td>\n",
       "      <td>192.168.1.1</td>\n",
       "      <td>...</td>\n",
       "      <td>C_INTERNET</td>\n",
       "      <td>1</td>\n",
       "      <td>A</td>\n",
       "      <td>scss-prod-ue1-notif-1.adobesc.com</td>\n",
       "      <td>0</td>\n",
       "      <td>NOERROR</td>\n",
       "      <td>False</td>\n",
       "      <td>00:00:00.013655</td>\n",
       "      <td>59504</td>\n",
       "      <td>C5uGiw3bW4Oakd7uMd</td>\n",
       "    </tr>\n",
       "    <tr>\n",
       "      <th>2017-12-31 20:00:49.559493</th>\n",
       "      <td>False</td>\n",
       "      <td>False</td>\n",
       "      <td>True</td>\n",
       "      <td>False</td>\n",
       "      <td>-</td>\n",
       "      <td>0</td>\n",
       "      <td>-</td>\n",
       "      <td>192.168.1.165</td>\n",
       "      <td>41584</td>\n",
       "      <td>192.168.1.1</td>\n",
       "      <td>...</td>\n",
       "      <td>C_INTERNET</td>\n",
       "      <td>1</td>\n",
       "      <td>A</td>\n",
       "      <td>unifi.lan</td>\n",
       "      <td>3</td>\n",
       "      <td>NXDOMAIN</td>\n",
       "      <td>True</td>\n",
       "      <td>00:00:00</td>\n",
       "      <td>12483</td>\n",
       "      <td>CFFkJi38UxaV1a9uEl</td>\n",
       "    </tr>\n",
       "  </tbody>\n",
       "</table>\n",
       "<p>5 rows × 23 columns</p>\n",
       "</div>"
      ],
      "text/plain": [
       "                               AA     RA     RD     TC  \\\n",
       "ts                                                       \n",
       "2017-12-31 20:00:06.032915   True  False  False  False   \n",
       "2017-12-31 20:00:19.509455  False  False   True  False   \n",
       "2017-12-31 20:00:19.510058  False  False   True  False   \n",
       "2017-12-31 20:00:36.804192  False   True   True  False   \n",
       "2017-12-31 20:00:49.559493  False  False   True  False   \n",
       "\n",
       "                                                                   TTLs  Z  \\\n",
       "ts                                                                           \n",
       "2017-12-31 20:00:06.032915  120.000000,120.000000,120.000000,120.000000  0   \n",
       "2017-12-31 20:00:19.509455                                            -  0   \n",
       "2017-12-31 20:00:19.510058                                            -  0   \n",
       "2017-12-31 20:00:36.804192                          41.000000,41.000000  0   \n",
       "2017-12-31 20:00:49.559493                                            -  0   \n",
       "\n",
       "                                                                      answers  \\\n",
       "ts                                                                              \n",
       "2017-12-31 20:00:06.032915  dvr-40e5.local,dvr-40e5.local,192.168.1.222,dv...   \n",
       "2017-12-31 20:00:19.509455                                                  -   \n",
       "2017-12-31 20:00:19.510058                                                  -   \n",
       "2017-12-31 20:00:36.804192                           52.0.132.165,52.0.53.222   \n",
       "2017-12-31 20:00:49.559493                                                  -   \n",
       "\n",
       "                                id.orig_h  id.orig_p    id.resp_h  \\\n",
       "ts                                                                  \n",
       "2017-12-31 20:00:06.032915  192.168.1.222       5353  224.0.0.251   \n",
       "2017-12-31 20:00:19.509455  192.168.1.165      41584  192.168.1.1   \n",
       "2017-12-31 20:00:19.510058  192.168.1.165      41584  192.168.1.1   \n",
       "2017-12-31 20:00:36.804192  192.168.1.117      58913  192.168.1.1   \n",
       "2017-12-31 20:00:49.559493  192.168.1.165      41584  192.168.1.1   \n",
       "\n",
       "                                   ...          qclass_name qtype  qtype_name  \\\n",
       "ts                                 ...                                          \n",
       "2017-12-31 20:00:06.032915         ...           C_INTERNET    33         SRV   \n",
       "2017-12-31 20:00:19.509455         ...           C_INTERNET     1           A   \n",
       "2017-12-31 20:00:19.510058         ...           C_INTERNET     1           A   \n",
       "2017-12-31 20:00:36.804192         ...           C_INTERNET     1           A   \n",
       "2017-12-31 20:00:49.559493         ...           C_INTERNET     1           A   \n",
       "\n",
       "                                                                query  rcode  \\\n",
       "ts                                                                             \n",
       "2017-12-31 20:00:06.032915  clearwater beach._tivo-mindrpc._tcp.local      0   \n",
       "2017-12-31 20:00:19.509455                                  unifi.lan      3   \n",
       "2017-12-31 20:00:19.510058                                      unifi      0   \n",
       "2017-12-31 20:00:36.804192          scss-prod-ue1-notif-1.adobesc.com      0   \n",
       "2017-12-31 20:00:49.559493                                  unifi.lan      3   \n",
       "\n",
       "                           rcode_name rejected             rtt trans_id  \\\n",
       "ts                                                                        \n",
       "2017-12-31 20:00:06.032915    NOERROR    False 00:00:00.101251        0   \n",
       "2017-12-31 20:00:19.509455   NXDOMAIN     True        00:00:00    37655   \n",
       "2017-12-31 20:00:19.510058    NOERROR     True        00:00:00      954   \n",
       "2017-12-31 20:00:36.804192    NOERROR    False 00:00:00.013655    59504   \n",
       "2017-12-31 20:00:49.559493   NXDOMAIN     True        00:00:00    12483   \n",
       "\n",
       "                                           uid  \n",
       "ts                                              \n",
       "2017-12-31 20:00:06.032915  C1iQkS2Sq7qiVN9kBb  \n",
       "2017-12-31 20:00:19.509455     C98LABabuv5cCGh  \n",
       "2017-12-31 20:00:19.510058     C98LABabuv5cCGh  \n",
       "2017-12-31 20:00:36.804192  C5uGiw3bW4Oakd7uMd  \n",
       "2017-12-31 20:00:49.559493  CFFkJi38UxaV1a9uEl  \n",
       "\n",
       "[5 rows x 23 columns]"
      ]
     },
     "execution_count": 11,
     "metadata": {},
     "output_type": "execute_result"
    }
   ],
   "source": [
    "dns_norm_df.head(5)"
   ]
  },
  {
   "cell_type": "code",
   "execution_count": 12,
   "metadata": {},
   "outputs": [
    {
     "data": {
      "text/html": [
       "<div>\n",
       "<style scoped>\n",
       "    .dataframe tbody tr th:only-of-type {\n",
       "        vertical-align: middle;\n",
       "    }\n",
       "\n",
       "    .dataframe tbody tr th {\n",
       "        vertical-align: top;\n",
       "    }\n",
       "\n",
       "    .dataframe thead th {\n",
       "        text-align: right;\n",
       "    }\n",
       "</style>\n",
       "<table border=\"1\" class=\"dataframe\">\n",
       "  <thead>\n",
       "    <tr style=\"text-align: right;\">\n",
       "      <th></th>\n",
       "      <th>conn_state</th>\n",
       "      <th>duration</th>\n",
       "      <th>history</th>\n",
       "      <th>id.orig_h</th>\n",
       "      <th>id.orig_p</th>\n",
       "      <th>id.resp_h</th>\n",
       "      <th>id.resp_p</th>\n",
       "      <th>local_orig</th>\n",
       "      <th>local_resp</th>\n",
       "      <th>missed_bytes</th>\n",
       "      <th>...</th>\n",
       "      <th>orig_pkts</th>\n",
       "      <th>proto</th>\n",
       "      <th>resp_bytes</th>\n",
       "      <th>resp_cc</th>\n",
       "      <th>resp_ip_bytes</th>\n",
       "      <th>resp_pkts</th>\n",
       "      <th>sensorname</th>\n",
       "      <th>service</th>\n",
       "      <th>tunnel_parents</th>\n",
       "      <th>uid</th>\n",
       "    </tr>\n",
       "    <tr>\n",
       "      <th>ts</th>\n",
       "      <th></th>\n",
       "      <th></th>\n",
       "      <th></th>\n",
       "      <th></th>\n",
       "      <th></th>\n",
       "      <th></th>\n",
       "      <th></th>\n",
       "      <th></th>\n",
       "      <th></th>\n",
       "      <th></th>\n",
       "      <th></th>\n",
       "      <th></th>\n",
       "      <th></th>\n",
       "      <th></th>\n",
       "      <th></th>\n",
       "      <th></th>\n",
       "      <th></th>\n",
       "      <th></th>\n",
       "      <th></th>\n",
       "      <th></th>\n",
       "      <th></th>\n",
       "    </tr>\n",
       "  </thead>\n",
       "  <tbody>\n",
       "    <tr>\n",
       "      <th>2018-01-01 04:58:54.140342</th>\n",
       "      <td>S0</td>\n",
       "      <td>00:00:00</td>\n",
       "      <td>D</td>\n",
       "      <td>192.168.1.165</td>\n",
       "      <td>47423</td>\n",
       "      <td>255.255.255.255</td>\n",
       "      <td>10001</td>\n",
       "      <td>True</td>\n",
       "      <td>False</td>\n",
       "      <td>0</td>\n",
       "      <td>...</td>\n",
       "      <td>1</td>\n",
       "      <td>udp</td>\n",
       "      <td>0</td>\n",
       "      <td>-</td>\n",
       "      <td>0</td>\n",
       "      <td>0</td>\n",
       "      <td>forest-eth1</td>\n",
       "      <td>-</td>\n",
       "      <td>(empty)</td>\n",
       "      <td>CojVJW2fwooUclqrnf</td>\n",
       "    </tr>\n",
       "    <tr>\n",
       "      <th>2018-01-01 04:59:04.142503</th>\n",
       "      <td>S0</td>\n",
       "      <td>00:00:00</td>\n",
       "      <td>D</td>\n",
       "      <td>192.168.1.165</td>\n",
       "      <td>40999</td>\n",
       "      <td>255.255.255.255</td>\n",
       "      <td>10001</td>\n",
       "      <td>True</td>\n",
       "      <td>False</td>\n",
       "      <td>0</td>\n",
       "      <td>...</td>\n",
       "      <td>1</td>\n",
       "      <td>udp</td>\n",
       "      <td>0</td>\n",
       "      <td>-</td>\n",
       "      <td>0</td>\n",
       "      <td>0</td>\n",
       "      <td>forest-eth1</td>\n",
       "      <td>-</td>\n",
       "      <td>(empty)</td>\n",
       "      <td>CGWiAx4QhCKIL8TwPk</td>\n",
       "    </tr>\n",
       "    <tr>\n",
       "      <th>2018-01-01 04:59:21.396541</th>\n",
       "      <td>SF</td>\n",
       "      <td>00:00:40.233652</td>\n",
       "      <td>ShADadFRRf</td>\n",
       "      <td>192.168.1.117</td>\n",
       "      <td>60424</td>\n",
       "      <td>52.0.132.165</td>\n",
       "      <td>443</td>\n",
       "      <td>True</td>\n",
       "      <td>False</td>\n",
       "      <td>0</td>\n",
       "      <td>...</td>\n",
       "      <td>13</td>\n",
       "      <td>tcp</td>\n",
       "      <td>486</td>\n",
       "      <td>US</td>\n",
       "      <td>962</td>\n",
       "      <td>9</td>\n",
       "      <td>forest-eth1</td>\n",
       "      <td>ssl</td>\n",
       "      <td>(empty)</td>\n",
       "      <td>Cr0KLv4rB2i9AWAUHd</td>\n",
       "    </tr>\n",
       "    <tr>\n",
       "      <th>2018-01-01 04:55:42.589811</th>\n",
       "      <td>RSTOS0</td>\n",
       "      <td>00:04:19.291746</td>\n",
       "      <td>DdAFR</td>\n",
       "      <td>192.168.1.240</td>\n",
       "      <td>40649</td>\n",
       "      <td>192.168.1.241</td>\n",
       "      <td>7736</td>\n",
       "      <td>True</td>\n",
       "      <td>True</td>\n",
       "      <td>0</td>\n",
       "      <td>...</td>\n",
       "      <td>4</td>\n",
       "      <td>tcp</td>\n",
       "      <td>74</td>\n",
       "      <td>-</td>\n",
       "      <td>178</td>\n",
       "      <td>2</td>\n",
       "      <td>forest-eth1</td>\n",
       "      <td>-</td>\n",
       "      <td>(empty)</td>\n",
       "      <td>CgBuue3fU1hp2p70b9</td>\n",
       "    </tr>\n",
       "    <tr>\n",
       "      <th>2018-01-01 05:00:02.199584</th>\n",
       "      <td>SF</td>\n",
       "      <td>00:00:00.038233</td>\n",
       "      <td>ShADadFf</td>\n",
       "      <td>192.168.1.240</td>\n",
       "      <td>57690</td>\n",
       "      <td>192.168.1.241</td>\n",
       "      <td>4506</td>\n",
       "      <td>True</td>\n",
       "      <td>True</td>\n",
       "      <td>0</td>\n",
       "      <td>...</td>\n",
       "      <td>9</td>\n",
       "      <td>tcp</td>\n",
       "      <td>1398</td>\n",
       "      <td>-</td>\n",
       "      <td>1822</td>\n",
       "      <td>8</td>\n",
       "      <td>forest-eth1</td>\n",
       "      <td>-</td>\n",
       "      <td>(empty)</td>\n",
       "      <td>CIlOaN21U4o0xQEX5k</td>\n",
       "    </tr>\n",
       "  </tbody>\n",
       "</table>\n",
       "<p>5 rows × 23 columns</p>\n",
       "</div>"
      ],
      "text/plain": [
       "                           conn_state        duration     history  \\\n",
       "ts                                                                  \n",
       "2018-01-01 04:58:54.140342         S0        00:00:00           D   \n",
       "2018-01-01 04:59:04.142503         S0        00:00:00           D   \n",
       "2018-01-01 04:59:21.396541         SF 00:00:40.233652  ShADadFRRf   \n",
       "2018-01-01 04:55:42.589811     RSTOS0 00:04:19.291746       DdAFR   \n",
       "2018-01-01 05:00:02.199584         SF 00:00:00.038233    ShADadFf   \n",
       "\n",
       "                                id.orig_h  id.orig_p        id.resp_h  \\\n",
       "ts                                                                      \n",
       "2018-01-01 04:58:54.140342  192.168.1.165      47423  255.255.255.255   \n",
       "2018-01-01 04:59:04.142503  192.168.1.165      40999  255.255.255.255   \n",
       "2018-01-01 04:59:21.396541  192.168.1.117      60424     52.0.132.165   \n",
       "2018-01-01 04:55:42.589811  192.168.1.240      40649    192.168.1.241   \n",
       "2018-01-01 05:00:02.199584  192.168.1.240      57690    192.168.1.241   \n",
       "\n",
       "                            id.resp_p  local_orig  local_resp  missed_bytes  \\\n",
       "ts                                                                            \n",
       "2018-01-01 04:58:54.140342      10001        True       False             0   \n",
       "2018-01-01 04:59:04.142503      10001        True       False             0   \n",
       "2018-01-01 04:59:21.396541        443        True       False             0   \n",
       "2018-01-01 04:55:42.589811       7736        True        True             0   \n",
       "2018-01-01 05:00:02.199584       4506        True        True             0   \n",
       "\n",
       "                                   ...          orig_pkts proto  resp_bytes  \\\n",
       "ts                                 ...                                        \n",
       "2018-01-01 04:58:54.140342         ...                  1   udp           0   \n",
       "2018-01-01 04:59:04.142503         ...                  1   udp           0   \n",
       "2018-01-01 04:59:21.396541         ...                 13   tcp         486   \n",
       "2018-01-01 04:55:42.589811         ...                  4   tcp          74   \n",
       "2018-01-01 05:00:02.199584         ...                  9   tcp        1398   \n",
       "\n",
       "                            resp_cc resp_ip_bytes  resp_pkts   sensorname  \\\n",
       "ts                                                                          \n",
       "2018-01-01 04:58:54.140342        -             0          0  forest-eth1   \n",
       "2018-01-01 04:59:04.142503        -             0          0  forest-eth1   \n",
       "2018-01-01 04:59:21.396541       US           962          9  forest-eth1   \n",
       "2018-01-01 04:55:42.589811        -           178          2  forest-eth1   \n",
       "2018-01-01 05:00:02.199584        -          1822          8  forest-eth1   \n",
       "\n",
       "                            service  tunnel_parents                 uid  \n",
       "ts                                                                       \n",
       "2018-01-01 04:58:54.140342        -         (empty)  CojVJW2fwooUclqrnf  \n",
       "2018-01-01 04:59:04.142503        -         (empty)  CGWiAx4QhCKIL8TwPk  \n",
       "2018-01-01 04:59:21.396541      ssl         (empty)  Cr0KLv4rB2i9AWAUHd  \n",
       "2018-01-01 04:55:42.589811        -         (empty)  CgBuue3fU1hp2p70b9  \n",
       "2018-01-01 05:00:02.199584        -         (empty)  CIlOaN21U4o0xQEX5k  \n",
       "\n",
       "[5 rows x 23 columns]"
      ]
     },
     "execution_count": 12,
     "metadata": {},
     "output_type": "execute_result"
    }
   ],
   "source": [
    "conn_norm_df.head(5)"
   ]
  },
  {
   "cell_type": "markdown",
   "metadata": {},
   "source": [
    "### Merge Conn and DNS logs"
   ]
  },
  {
   "cell_type": "code",
   "execution_count": 13,
   "metadata": {},
   "outputs": [],
   "source": [
    "norm_df = pd.merge(dns_norm_df, conn_norm_df, on='uid')"
   ]
  },
  {
   "cell_type": "code",
   "execution_count": 14,
   "metadata": {},
   "outputs": [
    {
     "data": {
      "text/plain": [
       "(34789, 45)"
      ]
     },
     "execution_count": 14,
     "metadata": {},
     "output_type": "execute_result"
    }
   ],
   "source": [
    "norm_df.shape"
   ]
  },
  {
   "cell_type": "code",
   "execution_count": 15,
   "metadata": {},
   "outputs": [
    {
     "name": "stdout",
     "output_type": "stream",
     "text": [
      "<class 'pandas.core.frame.DataFrame'>\n",
      "Int64Index: 34789 entries, 0 to 34788\n",
      "Data columns (total 45 columns):\n",
      "AA                34789 non-null bool\n",
      "RA                34789 non-null bool\n",
      "RD                34789 non-null bool\n",
      "TC                34789 non-null bool\n",
      "TTLs              34789 non-null object\n",
      "Z                 34789 non-null int64\n",
      "answers           34789 non-null object\n",
      "id.orig_h_x       34789 non-null object\n",
      "id.orig_p_x       34789 non-null int64\n",
      "id.resp_h_x       34789 non-null object\n",
      "id.resp_p_x       34789 non-null int64\n",
      "proto_x           34789 non-null object\n",
      "qclass            34789 non-null int64\n",
      "qclass_name       34789 non-null object\n",
      "qtype             34789 non-null int64\n",
      "qtype_name        34789 non-null object\n",
      "query             34789 non-null object\n",
      "rcode             34789 non-null int64\n",
      "rcode_name        34789 non-null object\n",
      "rejected          34789 non-null bool\n",
      "rtt               34789 non-null timedelta64[ns]\n",
      "trans_id          34789 non-null int64\n",
      "uid               34789 non-null object\n",
      "conn_state        34789 non-null object\n",
      "duration          34789 non-null timedelta64[ns]\n",
      "history           34789 non-null object\n",
      "id.orig_h_y       34789 non-null object\n",
      "id.orig_p_y       34789 non-null int64\n",
      "id.resp_h_y       34789 non-null object\n",
      "id.resp_p_y       34789 non-null int64\n",
      "local_orig        34789 non-null bool\n",
      "local_resp        34789 non-null bool\n",
      "missed_bytes      34789 non-null int64\n",
      "orig_bytes        34789 non-null int64\n",
      "orig_cc           34789 non-null object\n",
      "orig_ip_bytes     34789 non-null int64\n",
      "orig_pkts         34789 non-null int64\n",
      "proto_y           34789 non-null object\n",
      "resp_bytes        34789 non-null int64\n",
      "resp_cc           34789 non-null object\n",
      "resp_ip_bytes     34789 non-null int64\n",
      "resp_pkts         34789 non-null int64\n",
      "sensorname        34789 non-null object\n",
      "service           34789 non-null object\n",
      "tunnel_parents    34789 non-null object\n",
      "dtypes: bool(7), int64(16), object(20), timedelta64[ns](2)\n",
      "memory usage: 10.6+ MB\n"
     ]
    }
   ],
   "source": [
    "norm_df.info()"
   ]
  },
  {
   "cell_type": "code",
   "execution_count": 16,
   "metadata": {},
   "outputs": [],
   "source": [
    "norm_df.to_hdf('./data/home/dns_and_conn_20180101.h5', 'test', complevel=9, complib='zlib')"
   ]
  },
  {
   "cell_type": "code",
   "execution_count": 17,
   "metadata": {},
   "outputs": [
    {
     "name": "stdout",
     "output_type": "stream",
     "text": [
      "-rw-------  1 rob  staff    45M Jan 16 10:35 ./data/home/dns_and_conn_20180101.h5\r\n",
      "-rw-r--r--  1 rob  staff   9.8M Jan 16 10:14 ./data/home/dns_conn_labeled_20180101.h5\r\n",
      "-rw-------  1 rob  staff    24M Jan 16 10:09 ./data/home/key_to_finding_data.h5\r\n"
     ]
    }
   ],
   "source": [
    "!ls -lh ./data/home/*.h5"
   ]
  },
  {
   "cell_type": "markdown",
   "metadata": {},
   "source": [
    "### Round-trip from DF --> HDF5 --> DF"
   ]
  },
  {
   "cell_type": "code",
   "execution_count": 18,
   "metadata": {},
   "outputs": [],
   "source": [
    "key = 'key_to_finding_data'\n",
    "log_munger.df_to_hdf5(norm_df, key, './data/home/')"
   ]
  },
  {
   "cell_type": "code",
   "execution_count": 19,
   "metadata": {},
   "outputs": [],
   "source": [
    "data_dir = './data/home'\n",
    "df = log_munger.hdf5_to_df(key, data_dir)"
   ]
  },
  {
   "cell_type": "code",
   "execution_count": 20,
   "metadata": {},
   "outputs": [
    {
     "data": {
      "text/plain": [
       "True"
      ]
     },
     "execution_count": 20,
     "metadata": {},
     "output_type": "execute_result"
    }
   ],
   "source": [
    "df.equals(norm_df)"
   ]
  },
  {
   "cell_type": "markdown",
   "metadata": {},
   "source": [
    "### Build the Malicious Data Set"
   ]
  },
  {
   "cell_type": "code",
   "execution_count": 21,
   "metadata": {},
   "outputs": [
    {
     "name": "stdout",
     "output_type": "stream",
     "text": [
      "Successfully monitoring ./data/c2/iodine-raw/dns.log...\n",
      "Successfully monitoring ./data/c2/iodine-forwarded/dns.log...\n",
      "Successfully monitoring ./data/c2/dnscat2/dns.log...\n",
      "Successfully monitoring ./data/c2/iodine-raw/conn.log...\n",
      "Successfully monitoring ./data/c2/icmptunnel/conn.log...\n",
      "Successfully monitoring ./data/c2/iodine-forwarded/conn.log...\n",
      "Successfully monitoring ./data/c2/dnscat2/conn.log...\n",
      "Successfully monitoring ./data/c2/ptunnel/conn.log...\n"
     ]
    }
   ],
   "source": [
    "mal_dns_df = log_munger.bro_logs_to_df('./data/c2', 'dns')\n",
    "mal_conn_df = log_munger.bro_logs_to_df('./data/c2', 'conn')"
   ]
  },
  {
   "cell_type": "code",
   "execution_count": 22,
   "metadata": {},
   "outputs": [],
   "source": [
    "mal_df = pd.merge(mal_dns_df, mal_conn_df, on='uid')"
   ]
  },
  {
   "cell_type": "code",
   "execution_count": 23,
   "metadata": {},
   "outputs": [
    {
     "data": {
      "text/plain": [
       "((3445, 22), (3459, 20), (3445, 41))"
      ]
     },
     "execution_count": 23,
     "metadata": {},
     "output_type": "execute_result"
    }
   ],
   "source": [
    "mal_dns_df.shape, mal_conn_df.shape, mal_df.shape"
   ]
  },
  {
   "cell_type": "markdown",
   "metadata": {},
   "source": [
    "### Label the Data Sets"
   ]
  },
  {
   "cell_type": "code",
   "execution_count": 24,
   "metadata": {},
   "outputs": [],
   "source": [
    "norm_df['label'] = 0\n",
    "mal_df['label'] = 1"
   ]
  },
  {
   "cell_type": "markdown",
   "metadata": {},
   "source": [
    "### Remove Inconsistent Columns"
   ]
  },
  {
   "cell_type": "code",
   "execution_count": 25,
   "metadata": {},
   "outputs": [],
   "source": [
    "mal_col_set = set(mal_df.columns)\n",
    "norm_col_set = set(norm_df.columns)"
   ]
  },
  {
   "cell_type": "code",
   "execution_count": 26,
   "metadata": {},
   "outputs": [
    {
     "data": {
      "text/plain": [
       "({'orig_cc', 'resp_cc', 'rtt', 'sensorname'}, (34789, 46), (3445, 42))"
      ]
     },
     "execution_count": 26,
     "metadata": {},
     "output_type": "execute_result"
    }
   ],
   "source": [
    "norm_columns_not_in_mal = {col_n for col_n in norm_col_set if col_n not in mal_col_set}\n",
    "norm_columns_not_in_mal, norm_df.shape, mal_df.shape"
   ]
  },
  {
   "cell_type": "code",
   "execution_count": 27,
   "metadata": {},
   "outputs": [
    {
     "data": {
      "text/plain": [
       "(set(), (34789, 46), (3445, 42))"
      ]
     },
     "execution_count": 27,
     "metadata": {},
     "output_type": "execute_result"
    }
   ],
   "source": [
    "mal_columns_not_in_norm = {col_m for col_m in mal_col_set if col_m not in norm_col_set}\n",
    "mal_columns_not_in_norm, norm_df.shape, mal_df.shape"
   ]
  },
  {
   "cell_type": "code",
   "execution_count": 28,
   "metadata": {},
   "outputs": [],
   "source": [
    "mal_df = mal_df.drop(mal_columns_not_in_norm, axis=1)\n",
    "norm_df = norm_df.drop(norm_columns_not_in_mal, axis=1)"
   ]
  },
  {
   "cell_type": "code",
   "execution_count": 29,
   "metadata": {},
   "outputs": [
    {
     "data": {
      "text/plain": [
       "((34789, 42), (3445, 42))"
      ]
     },
     "execution_count": 29,
     "metadata": {},
     "output_type": "execute_result"
    }
   ],
   "source": [
    "norm_df.shape, mal_df.shape"
   ]
  },
  {
   "cell_type": "markdown",
   "metadata": {},
   "source": [
    "### Combine Labeled Data Sets"
   ]
  },
  {
   "cell_type": "code",
   "execution_count": 30,
   "metadata": {},
   "outputs": [],
   "source": [
    "df = norm_df.append(mal_df)"
   ]
  },
  {
   "cell_type": "code",
   "execution_count": 31,
   "metadata": {},
   "outputs": [
    {
     "data": {
      "text/plain": [
       "(38234, 42)"
      ]
     },
     "execution_count": 31,
     "metadata": {},
     "output_type": "execute_result"
    }
   ],
   "source": [
    "df.shape"
   ]
  },
  {
   "cell_type": "markdown",
   "metadata": {},
   "source": [
    "### Engineer Features"
   ]
  },
  {
   "cell_type": "code",
   "execution_count": 32,
   "metadata": {},
   "outputs": [
    {
     "data": {
      "text/plain": [
       "(38234, 43)"
      ]
     },
     "execution_count": 32,
     "metadata": {},
     "output_type": "execute_result"
    }
   ],
   "source": [
    "df['pcr'] = log_munger.calc_pcr(df)\n",
    "df.shape"
   ]
  },
  {
   "cell_type": "markdown",
   "metadata": {},
   "source": [
    "### Save the Combined Labeled Data Set"
   ]
  },
  {
   "cell_type": "code",
   "execution_count": 33,
   "metadata": {},
   "outputs": [],
   "source": [
    "key = 'dns_conn_labeled_20180101'\n",
    "log_munger.df_to_hdf5(df, key, './data/home/')"
   ]
  },
  {
   "cell_type": "code",
   "execution_count": 34,
   "metadata": {},
   "outputs": [
    {
     "name": "stdout",
     "output_type": "stream",
     "text": [
      "-rw-------  1 rob  staff    45M Jan 16 10:35 ./data/home/dns_and_conn_20180101.h5\r\n",
      "-rw-r--r--  1 rob  staff    18M Jan 16 10:47 ./data/home/dns_conn_labeled_20180101.h5\r\n",
      "-rw-------  1 rob  staff    31M Jan 16 10:46 ./data/home/key_to_finding_data.h5\r\n"
     ]
    }
   ],
   "source": [
    "!ls -lh ./data/home/*.h5"
   ]
  },
  {
   "cell_type": "markdown",
   "metadata": {},
   "source": [
    "### Rebalance Minority Class"
   ]
  },
  {
   "cell_type": "code",
   "execution_count": 35,
   "metadata": {},
   "outputs": [
    {
     "name": "stdout",
     "output_type": "stream",
     "text": [
      "(1703, 43) (17414, 43)\n"
     ]
    },
    {
     "data": {
      "text/plain": [
       "((38234, 43), (34828, 43))"
      ]
     },
     "execution_count": 35,
     "metadata": {},
     "output_type": "execute_result"
    }
   ],
   "source": [
    "# from sklearn.model_selection import train_test_split\n",
    "# train, test = train_test_split(df, random_state=37, test_size=0.5)\n",
    "bal_df = log_munger.rebalance(df, column_name='label')\n",
    "df.shape, bal_df.shape"
   ]
  },
  {
   "cell_type": "code",
   "execution_count": null,
   "metadata": {},
   "outputs": [],
   "source": [
    "from sklearn.utils import resample\n",
    "train_minority_resampled = resample(train_minority,\n",
    "                                replace=True,\n",
    "                                random_state=37,\n",
    "                                n_samples=len(train_majority))"
   ]
  },
  {
   "cell_type": "code",
   "execution_count": null,
   "metadata": {},
   "outputs": [],
   "source": [
    "train_minority.shape, train_minority_resampled.shape"
   ]
  },
  {
   "cell_type": "code",
   "execution_count": null,
   "metadata": {},
   "outputs": [],
   "source": [
    "train_resampled = train_majority.append(train_minority_resampled)\n",
    "train_resampled.shape"
   ]
  },
  {
   "cell_type": "code",
   "execution_count": null,
   "metadata": {},
   "outputs": [],
   "source": [
    "X_train = train_resampled.copy(deep=True)"
   ]
  },
  {
   "cell_type": "code",
   "execution_count": null,
   "metadata": {},
   "outputs": [],
   "source": [
    "y_train = X_train.pop('label')\n",
    "y_train.shape, X_train.shape"
   ]
  },
  {
   "cell_type": "code",
   "execution_count": null,
   "metadata": {},
   "outputs": [],
   "source": [
    "import numpy as np\n",
    "import pandas as pd\n",
    "import seaborn as sns\n",
    "import matplotlib.pyplot as plt\n",
    "%matplotlib inline"
   ]
  },
  {
   "cell_type": "code",
   "execution_count": null,
   "metadata": {},
   "outputs": [],
   "source": [
    "corr = X_train.corr()"
   ]
  },
  {
   "cell_type": "code",
   "execution_count": null,
   "metadata": {},
   "outputs": [],
   "source": [
    "mask = np.zeros_like(corr, dtype=np.bool)\n",
    "mask[np.triu_indices_from(mask)] = True"
   ]
  },
  {
   "cell_type": "code",
   "execution_count": null,
   "metadata": {},
   "outputs": [],
   "source": [
    "f, ax = plt.subplots(figsize=(16, 12))\n",
    "sns.set(style='white')\n",
    "cmap = sns.diverging_palette(220, 10, as_cmap=True)\n",
    "sns.heatmap(corr, mask=mask, cmap=cmap, vmax=3, \n",
    "            center=0, square=True, linewidths=.5, \n",
    "            cbar_kws={'shrink': .5})"
   ]
  },
  {
   "cell_type": "markdown",
   "metadata": {},
   "source": [
    "### Clustering"
   ]
  },
  {
   "cell_type": "code",
   "execution_count": null,
   "metadata": {},
   "outputs": [],
   "source": [
    "from sklearn.preprocessing import StandardScaler\n",
    "from sklearn.cluster import DBSCAN\n",
    "from sklearn import metrics"
   ]
  },
  {
   "cell_type": "code",
   "execution_count": null,
   "metadata": {},
   "outputs": [],
   "source": [
    "numerics = X_train.copy(deep=True)\n",
    "numerics = numerics.drop(['TTLs', 'answers', 'conn_state', 'history', 'id.orig_h_x', \n",
    "                          'id.orig_h_y', 'id.resp_h_x', 'id.resp_h_y', 'proto_x', 'proto_y',\n",
    "                          'qclass_name', 'qtype_name', 'query', 'rcode_name', 'service', 'tunnel_parents',\n",
    "                          'uid'], axis=1)"
   ]
  },
  {
   "cell_type": "code",
   "execution_count": null,
   "metadata": {},
   "outputs": [],
   "source": [
    "X = StandardScaler().fit_transform(X)\n",
    "db = DBSCAN(eps=0.3, min_samples=10).fit(X)"
   ]
  },
  {
   "cell_type": "code",
   "execution_count": null,
   "metadata": {},
   "outputs": [],
   "source": []
  },
  {
   "cell_type": "markdown",
   "metadata": {},
   "source": [
    "### SVD and Logistic Regression"
   ]
  },
  {
   "cell_type": "code",
   "execution_count": null,
   "metadata": {},
   "outputs": [],
   "source": [
    "import numpy as np\n",
    "import matplotlib.pyplot as plt\n",
    "from sklearn.pipeline import Pipeline\n",
    "from sklearn.preprocessing import StandardScaler\n",
    "from sklearn import decomposition\n",
    "from sklearn import linear_model"
   ]
  },
  {
   "cell_type": "code",
   "execution_count": null,
   "metadata": {},
   "outputs": [],
   "source": [
    "scaler = StandardScaler()\n",
    "svd = decomposition.TruncatedSVD(n_components=15, random_state=37, n_iter=10)\n",
    "logistic = linear_model.LogisticRegression()\n",
    "pca = decomposition.PCA(n_components=10, random_state=37)\n",
    "\n",
    "pipeline = Pipeline(steps=[('scaler', scaler), ('pca', pca)])  #, ('svd', svd), ('logistic', logistic)\n"
   ]
  },
  {
   "cell_type": "code",
   "execution_count": null,
   "metadata": {},
   "outputs": [],
   "source": [
    "numerics = X_train.copy(deep=True)\n",
    "numerics = numerics.drop(['TTLs', 'answers', 'conn_state', 'history', 'id.orig_h_x', \n",
    "                          'id.orig_h_y', 'id.resp_h_x', 'id.resp_h_y', 'proto_x', 'proto_y',\n",
    "                          'qclass_name', 'qtype_name', 'query', 'rcode_name', 'service', 'tunnel_parents',\n",
    "                          'uid'], axis=1)"
   ]
  },
  {
   "cell_type": "code",
   "execution_count": null,
   "metadata": {},
   "outputs": [],
   "source": [
    "# Convert timedeltas to seconds\n",
    "numerics = numerics.drop(['duration'], axis=1)"
   ]
  },
  {
   "cell_type": "code",
   "execution_count": null,
   "metadata": {},
   "outputs": [],
   "source": [
    "x_temp = numerics.values\n",
    "type(numerics), type(x_temp), x_temp.shape"
   ]
  },
  {
   "cell_type": "code",
   "execution_count": null,
   "metadata": {},
   "outputs": [],
   "source": [
    "numerics.info()"
   ]
  },
  {
   "cell_type": "code",
   "execution_count": null,
   "metadata": {},
   "outputs": [],
   "source": [
    "# get the data\n",
    "X_digits = numerics.values\n",
    "y_digits = y_train.values"
   ]
  },
  {
   "cell_type": "code",
   "execution_count": null,
   "metadata": {},
   "outputs": [],
   "source": [
    "type(X_digits)"
   ]
  },
  {
   "cell_type": "code",
   "execution_count": null,
   "metadata": {},
   "outputs": [],
   "source": [
    "X_digits[1:5, :].T"
   ]
  },
  {
   "cell_type": "code",
   "execution_count": null,
   "metadata": {},
   "outputs": [],
   "source": [
    "row = X_digits[0, :]\n",
    "print(row)\n",
    "for i in range(X_digits.shape[1]):\n",
    "    print(type(X_digits[:, i]))"
   ]
  },
  {
   "cell_type": "code",
   "execution_count": null,
   "metadata": {},
   "outputs": [],
   "source": [
    "indx = np.where(np.isnan(X_digits))"
   ]
  },
  {
   "cell_type": "code",
   "execution_count": null,
   "metadata": {},
   "outputs": [],
   "source": [
    "\n",
    "# Plot the PCA spectrum\n",
    "pca.fit(X_digits)\n",
    "\n",
    "plt.figure(1, figsize=(4, 3))\n",
    "plt.clf()\n",
    "plt.axes([.2, .2, .7, .7])\n",
    "plt.plot(svd.explained_variance_, linewidth=2)\n",
    "plt.axis('tight')\n",
    "plt.xlabel('n_components')\n",
    "plt.ylabel('explained_variance_')\n",
    "\n",
    "# Prediction\n",
    "n_components = [20, 40, 64]\n",
    "Cs = np.logspace(-4, 4, 3)\n",
    "\n",
    "# Parameters of pipelines can be set using ‘__’ separated parameter names:\n",
    "estimator = GridSearchCV(pipe,\n",
    "                         dict(svd__n_components=n_components,\n",
    "                              logistic__C=Cs))\n",
    "estimator.fit(X_digits, y_digits)\n",
    "\n",
    "plt.axvline(estimator.best_estimator_.named_steps['svd'].n_components,\n",
    "            linestyle=':', label='n_components chosen')\n",
    "plt.legend(prop=dict(size=12))\n",
    "plt.show()"
   ]
  },
  {
   "cell_type": "code",
   "execution_count": null,
   "metadata": {},
   "outputs": [],
   "source": []
  },
  {
   "cell_type": "code",
   "execution_count": null,
   "metadata": {},
   "outputs": [],
   "source": []
  }
 ],
 "metadata": {
  "kernelspec": {
   "display_name": "Python 3",
   "language": "python",
   "name": "python3"
  },
  "language_info": {
   "codemirror_mode": {
    "name": "ipython",
    "version": 3
   },
   "file_extension": ".py",
   "mimetype": "text/x-python",
   "name": "python",
   "nbconvert_exporter": "python",
   "pygments_lexer": "ipython3",
   "version": "3.6.3"
  }
 },
 "nbformat": 4,
 "nbformat_minor": 2
}
