{
 "cells": [
  {
   "cell_type": "code",
   "execution_count": 11,
   "metadata": {},
   "outputs": [],
   "source": [
    "import pandas as pd\n",
    "from wakeful import log_munger"
   ]
  },
  {
   "cell_type": "code",
   "execution_count": 12,
   "metadata": {},
   "outputs": [
    {
     "data": {
      "text/plain": [
       "'/Users/rob/Google_Drive/Datascience/Galvanize/Project/wakeful_proj'"
      ]
     },
     "execution_count": 12,
     "metadata": {},
     "output_type": "execute_result"
    }
   ],
   "source": [
    "%pwd"
   ]
  },
  {
   "cell_type": "code",
   "execution_count": 14,
   "metadata": {},
   "outputs": [],
   "source": [
    "dns_norm_df = log_munger.bro_logs_to_df('Users/rob/Google_Drive/Datascience/Galvanize/Project/wakeful_proj/data/home', 'dns')"
   ]
  },
  {
   "cell_type": "code",
   "execution_count": null,
   "metadata": {},
   "outputs": [],
   "source": [
    "dns_norm_df = log_munger.bro_logs_to_df"
   ]
  },
  {
   "cell_type": "code",
   "execution_count": null,
   "metadata": {},
   "outputs": [],
   "source": [
    "dns_norm_df = log_munger.bro_logs_to_df"
   ]
  },
  {
   "cell_type": "code",
   "execution_count": 15,
   "metadata": {},
   "outputs": [
    {
     "name": "stdout",
     "output_type": "stream",
     "text": [
      "<class 'bat.log_to_dataframe.LogToDataFrame'>\n",
      "DatetimeIndex: 224 entries, 2017-12-22 12:49:25.247093 to 2017-12-22 12:59:57.385197\n",
      "Data columns (total 23 columns):\n",
      "AA             224 non-null bool\n",
      "RA             224 non-null bool\n",
      "RD             224 non-null bool\n",
      "TC             224 non-null bool\n",
      "TTLs           224 non-null object\n",
      "Z              224 non-null int64\n",
      "answers        224 non-null object\n",
      "id.orig_h      224 non-null object\n",
      "id.orig_p      224 non-null int64\n",
      "id.resp_h      224 non-null object\n",
      "id.resp_p      224 non-null int64\n",
      "proto          224 non-null object\n",
      "qclass         224 non-null int64\n",
      "qclass_name    224 non-null object\n",
      "qtype          224 non-null int64\n",
      "qtype_name     224 non-null object\n",
      "query          224 non-null object\n",
      "rcode          224 non-null int64\n",
      "rcode_name     224 non-null object\n",
      "rejected       224 non-null bool\n",
      "rtt            224 non-null timedelta64[ns]\n",
      "trans_id       224 non-null int64\n",
      "uid            224 non-null object\n",
      "dtypes: bool(5), int64(7), object(10), timedelta64[ns](1)\n",
      "memory usage: 34.3+ KB\n"
     ]
    }
   ],
   "source": [
    "print(dns_df.shape)\n",
    "dns_df.info()"
   ]
  },
  {
   "cell_type": "code",
   "execution_count": 14,
   "metadata": {},
   "outputs": [
    {
     "name": "stdout",
     "output_type": "stream",
     "text": [
      "<class 'bat.log_to_dataframe.LogToDataFrame'>\n",
      "DatetimeIndex: 413 entries, 2017-12-22 12:49:30.218975 to 2017-12-22 12:59:47.559851\n",
      "Data columns (total 23 columns):\n",
      "conn_state        413 non-null object\n",
      "duration          413 non-null timedelta64[ns]\n",
      "history           413 non-null object\n",
      "id.orig_h         413 non-null object\n",
      "id.orig_p         413 non-null int64\n",
      "id.resp_h         413 non-null object\n",
      "id.resp_p         413 non-null int64\n",
      "local_orig        413 non-null bool\n",
      "local_resp        413 non-null bool\n",
      "missed_bytes      413 non-null int64\n",
      "orig_bytes        413 non-null int64\n",
      "orig_cc           413 non-null object\n",
      "orig_ip_bytes     413 non-null int64\n",
      "orig_pkts         413 non-null int64\n",
      "proto             413 non-null object\n",
      "resp_bytes        413 non-null int64\n",
      "resp_cc           413 non-null object\n",
      "resp_ip_bytes     413 non-null int64\n",
      "resp_pkts         413 non-null int64\n",
      "sensorname        413 non-null object\n",
      "service           413 non-null object\n",
      "tunnel_parents    413 non-null object\n",
      "uid               413 non-null object\n",
      "dtypes: bool(2), int64(9), object(11), timedelta64[ns](1)\n",
      "memory usage: 71.8+ KB\n"
     ]
    }
   ],
   "source": [
    "conn_df.info()"
   ]
  },
  {
   "cell_type": "code",
   "execution_count": 20,
   "metadata": {},
   "outputs": [
    {
     "data": {
      "text/plain": [
       "(413, 23)"
      ]
     },
     "execution_count": 20,
     "metadata": {},
     "output_type": "execute_result"
    }
   ],
   "source": [
    "conn_df.shape"
   ]
  },
  {
   "cell_type": "code",
   "execution_count": null,
   "metadata": {},
   "outputs": [],
   "source": []
  }
 ],
 "metadata": {
  "kernelspec": {
   "display_name": "Python 3",
   "language": "python",
   "name": "python3"
  },
  "language_info": {
   "codemirror_mode": {
    "name": "ipython",
    "version": 3
   },
   "file_extension": ".py",
   "mimetype": "text/x-python",
   "name": "python",
   "nbconvert_exporter": "python",
   "pygments_lexer": "ipython3",
   "version": "3.6.3"
  }
 },
 "nbformat": 4,
 "nbformat_minor": 2
}
