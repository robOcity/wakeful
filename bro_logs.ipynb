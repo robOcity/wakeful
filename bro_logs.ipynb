{
 "cells": [
  {
   "cell_type": "code",
   "execution_count": 1,
   "metadata": {},
   "outputs": [],
   "source": [
    "import pandas as pd\n",
    "from wakeful import log_munger"
   ]
  },
  {
   "cell_type": "code",
   "execution_count": 2,
   "metadata": {},
   "outputs": [
    {
     "data": {
      "text/plain": [
       "'/Users/rob/Google_Drive/Datascience/Galvanize/Project/wakeful_proj'"
      ]
     },
     "execution_count": 2,
     "metadata": {},
     "output_type": "execute_result"
    }
   ],
   "source": [
    "%pwd"
   ]
  },
  {
   "cell_type": "code",
   "execution_count": 3,
   "metadata": {},
   "outputs": [],
   "source": [
    "norm_path = './data/home/2018-01-01'"
   ]
  },
  {
   "cell_type": "code",
   "execution_count": 4,
   "metadata": {},
   "outputs": [
    {
     "name": "stdout",
     "output_type": "stream",
     "text": [
      "Successfully monitoring ./data/home/2018-01-01/dns.00:00:00-01:00:00.log...\n",
      "Successfully monitoring ./data/home/2018-01-01/dns.01:00:00-02:00:00.log...\n",
      "Successfully monitoring ./data/home/2018-01-01/dns.02:00:00-03:00:00.log...\n",
      "Successfully monitoring ./data/home/2018-01-01/dns.03:00:00-04:00:00.log...\n",
      "Successfully monitoring ./data/home/2018-01-01/dns.04:00:00-05:00:00.log...\n",
      "Successfully monitoring ./data/home/2018-01-01/dns.05:00:00-06:00:00.log...\n",
      "Successfully monitoring ./data/home/2018-01-01/dns.06:00:00-07:00:00.log...\n",
      "Successfully monitoring ./data/home/2018-01-01/dns.07:00:00-08:00:00.log...\n",
      "Successfully monitoring ./data/home/2018-01-01/dns.08:00:00-09:00:00.log...\n",
      "Successfully monitoring ./data/home/2018-01-01/dns.09:00:00-10:00:00.log...\n",
      "Successfully monitoring ./data/home/2018-01-01/dns.10:00:00-11:00:00.log...\n",
      "Successfully monitoring ./data/home/2018-01-01/dns.11:00:00-12:00:00.log...\n",
      "Successfully monitoring ./data/home/2018-01-01/dns.12:00:00-13:00:00.log...\n",
      "Successfully monitoring ./data/home/2018-01-01/dns.13:00:00-14:00:00.log...\n",
      "Successfully monitoring ./data/home/2018-01-01/dns.14:00:00-15:00:00.log...\n",
      "Successfully monitoring ./data/home/2018-01-01/dns.15:00:00-16:00:00.log...\n",
      "Successfully monitoring ./data/home/2018-01-01/dns.16:00:00-17:00:00.log...\n",
      "Successfully monitoring ./data/home/2018-01-01/dns.17:00:00-18:00:00.log...\n",
      "Successfully monitoring ./data/home/2018-01-01/dns.18:00:00-19:00:00.log...\n",
      "Successfully monitoring ./data/home/2018-01-01/dns.19:00:00-20:00:00.log...\n",
      "Successfully monitoring ./data/home/2018-01-01/dns.20:00:00-21:00:00.log...\n",
      "Successfully monitoring ./data/home/2018-01-01/dns.21:00:00-22:00:00.log...\n",
      "Successfully monitoring ./data/home/2018-01-01/dns.22:00:00-23:00:00.log...\n",
      "Successfully monitoring ./data/home/2018-01-01/dns.23:00:00-00:00:00.log...\n"
     ]
    }
   ],
   "source": [
    "dns_norm_df = log_munger.bro_logs_to_df(norm_path, 'dns');"
   ]
  },
  {
   "cell_type": "code",
   "execution_count": 5,
   "metadata": {},
   "outputs": [
    {
     "name": "stdout",
     "output_type": "stream",
     "text": [
      "(34789, 23)\n"
     ]
    }
   ],
   "source": [
    "print(dns_norm_df.shape)"
   ]
  },
  {
   "cell_type": "code",
   "execution_count": 6,
   "metadata": {},
   "outputs": [
    {
     "name": "stdout",
     "output_type": "stream",
     "text": [
      "<class 'pandas.core.frame.DataFrame'>\n",
      "DatetimeIndex: 34789 entries, 2017-12-31 17:00:01.938273 to 2018-01-01 16:59:37.023038\n",
      "Data columns (total 23 columns):\n",
      "AA             34789 non-null bool\n",
      "RA             34789 non-null bool\n",
      "RD             34789 non-null bool\n",
      "TC             34789 non-null bool\n",
      "TTLs           34789 non-null object\n",
      "Z              34789 non-null int64\n",
      "answers        34789 non-null object\n",
      "id.orig_h      34789 non-null object\n",
      "id.orig_p      34789 non-null int64\n",
      "id.resp_h      34789 non-null object\n",
      "id.resp_p      34789 non-null int64\n",
      "proto          34789 non-null object\n",
      "qclass         34789 non-null int64\n",
      "qclass_name    34789 non-null object\n",
      "qtype          34789 non-null int64\n",
      "qtype_name     34789 non-null object\n",
      "query          34789 non-null object\n",
      "rcode          34789 non-null int64\n",
      "rcode_name     34789 non-null object\n",
      "rejected       34789 non-null bool\n",
      "rtt            34789 non-null timedelta64[ns]\n",
      "trans_id       34789 non-null int64\n",
      "uid            34789 non-null object\n",
      "dtypes: bool(5), int64(7), object(10), timedelta64[ns](1)\n",
      "memory usage: 5.2+ MB\n"
     ]
    }
   ],
   "source": [
    "dns_norm_df.info()"
   ]
  },
  {
   "cell_type": "code",
   "execution_count": 7,
   "metadata": {},
   "outputs": [
    {
     "name": "stdout",
     "output_type": "stream",
     "text": [
      "Successfully monitoring ./data/home/2018-01-01/conn.00:00:00-01:00:00.log...\n",
      "Successfully monitoring ./data/home/2018-01-01/conn.01:00:00-02:00:00.log...\n",
      "Successfully monitoring ./data/home/2018-01-01/conn.02:00:00-03:00:00.log...\n",
      "Successfully monitoring ./data/home/2018-01-01/conn.03:00:00-04:00:00.log...\n",
      "Successfully monitoring ./data/home/2018-01-01/conn.04:00:00-05:00:00.log...\n",
      "Successfully monitoring ./data/home/2018-01-01/conn.05:00:00-06:00:00.log...\n",
      "Successfully monitoring ./data/home/2018-01-01/conn.06:00:00-07:00:00.log...\n",
      "Successfully monitoring ./data/home/2018-01-01/conn.07:00:00-08:00:00.log...\n",
      "Successfully monitoring ./data/home/2018-01-01/conn.08:00:00-09:00:00.log...\n",
      "Successfully monitoring ./data/home/2018-01-01/conn.09:00:00-10:00:00.log...\n",
      "Successfully monitoring ./data/home/2018-01-01/conn.10:00:00-11:00:00.log...\n",
      "Successfully monitoring ./data/home/2018-01-01/conn.11:00:00-12:00:00.log...\n",
      "Successfully monitoring ./data/home/2018-01-01/conn.12:00:00-13:00:00.log...\n",
      "Successfully monitoring ./data/home/2018-01-01/conn.13:00:00-14:00:00.log...\n",
      "Successfully monitoring ./data/home/2018-01-01/conn.14:00:00-15:00:00.log...\n",
      "Successfully monitoring ./data/home/2018-01-01/conn.15:00:00-16:00:00.log...\n",
      "Successfully monitoring ./data/home/2018-01-01/conn.16:00:00-17:00:00.log...\n",
      "Successfully monitoring ./data/home/2018-01-01/conn.17:00:00-18:00:00.log...\n",
      "Successfully monitoring ./data/home/2018-01-01/conn.18:00:00-19:00:00.log...\n",
      "Successfully monitoring ./data/home/2018-01-01/conn.19:00:00-20:00:00.log...\n",
      "Successfully monitoring ./data/home/2018-01-01/conn.20:00:00-21:00:00.log...\n",
      "Successfully monitoring ./data/home/2018-01-01/conn.21:00:00-22:00:00.log...\n",
      "Successfully monitoring ./data/home/2018-01-01/conn.22:00:00-23:00:00.log...\n",
      "Successfully monitoring ./data/home/2018-01-01/conn.23:00:00-00:00:00.log...\n"
     ]
    }
   ],
   "source": [
    "conn_norm_df = log_munger.bro_logs_to_df(norm_path, 'conn');"
   ]
  },
  {
   "cell_type": "code",
   "execution_count": 8,
   "metadata": {},
   "outputs": [
    {
     "data": {
      "text/plain": [
       "(58264, 23)"
      ]
     },
     "execution_count": 8,
     "metadata": {},
     "output_type": "execute_result"
    }
   ],
   "source": [
    "conn_norm_df.shape"
   ]
  },
  {
   "cell_type": "code",
   "execution_count": 9,
   "metadata": {},
   "outputs": [
    {
     "name": "stdout",
     "output_type": "stream",
     "text": [
      "<class 'pandas.core.frame.DataFrame'>\n",
      "DatetimeIndex: 58264 entries, 2017-12-31 16:59:44.996915 to 2018-01-01 16:59:45.264113\n",
      "Data columns (total 23 columns):\n",
      "conn_state        58264 non-null object\n",
      "duration          58264 non-null timedelta64[ns]\n",
      "history           58264 non-null object\n",
      "id.orig_h         58264 non-null object\n",
      "id.orig_p         58264 non-null int64\n",
      "id.resp_h         58264 non-null object\n",
      "id.resp_p         58264 non-null int64\n",
      "local_orig        58264 non-null bool\n",
      "local_resp        58264 non-null bool\n",
      "missed_bytes      58264 non-null int64\n",
      "orig_bytes        58264 non-null int64\n",
      "orig_cc           58264 non-null object\n",
      "orig_ip_bytes     58264 non-null int64\n",
      "orig_pkts         58264 non-null int64\n",
      "proto             58264 non-null object\n",
      "resp_bytes        58264 non-null int64\n",
      "resp_cc           58264 non-null object\n",
      "resp_ip_bytes     58264 non-null int64\n",
      "resp_pkts         58264 non-null int64\n",
      "sensorname        58264 non-null object\n",
      "service           58264 non-null object\n",
      "tunnel_parents    58264 non-null object\n",
      "uid               58264 non-null object\n",
      "dtypes: bool(2), int64(9), object(11), timedelta64[ns](1)\n",
      "memory usage: 9.9+ MB\n"
     ]
    }
   ],
   "source": [
    "conn_norm_df.info()"
   ]
  },
  {
   "cell_type": "code",
   "execution_count": 10,
   "metadata": {},
   "outputs": [
    {
     "name": "stdout",
     "output_type": "stream",
     "text": [
      "<class 'pandas.core.frame.DataFrame'>\n",
      "DatetimeIndex: 34789 entries, 2017-12-31 17:00:01.938273 to 2018-01-01 16:59:37.023038\n",
      "Data columns (total 23 columns):\n",
      "AA             34789 non-null bool\n",
      "RA             34789 non-null bool\n",
      "RD             34789 non-null bool\n",
      "TC             34789 non-null bool\n",
      "TTLs           34789 non-null object\n",
      "Z              34789 non-null int64\n",
      "answers        34789 non-null object\n",
      "id.orig_h      34789 non-null object\n",
      "id.orig_p      34789 non-null int64\n",
      "id.resp_h      34789 non-null object\n",
      "id.resp_p      34789 non-null int64\n",
      "proto          34789 non-null object\n",
      "qclass         34789 non-null int64\n",
      "qclass_name    34789 non-null object\n",
      "qtype          34789 non-null int64\n",
      "qtype_name     34789 non-null object\n",
      "query          34789 non-null object\n",
      "rcode          34789 non-null int64\n",
      "rcode_name     34789 non-null object\n",
      "rejected       34789 non-null bool\n",
      "rtt            34789 non-null timedelta64[ns]\n",
      "trans_id       34789 non-null int64\n",
      "uid            34789 non-null object\n",
      "dtypes: bool(5), int64(7), object(10), timedelta64[ns](1)\n",
      "memory usage: 5.2+ MB\n"
     ]
    }
   ],
   "source": [
    "dns_norm_df.info()"
   ]
  },
  {
   "cell_type": "code",
   "execution_count": 11,
   "metadata": {},
   "outputs": [
    {
     "data": {
      "text/html": [
       "<div>\n",
       "<style>\n",
       "    .dataframe thead tr:only-child th {\n",
       "        text-align: right;\n",
       "    }\n",
       "\n",
       "    .dataframe thead th {\n",
       "        text-align: left;\n",
       "    }\n",
       "\n",
       "    .dataframe tbody tr th {\n",
       "        vertical-align: top;\n",
       "    }\n",
       "</style>\n",
       "<table border=\"1\" class=\"dataframe\">\n",
       "  <thead>\n",
       "    <tr style=\"text-align: right;\">\n",
       "      <th></th>\n",
       "      <th>AA</th>\n",
       "      <th>RA</th>\n",
       "      <th>RD</th>\n",
       "      <th>TC</th>\n",
       "      <th>TTLs</th>\n",
       "      <th>Z</th>\n",
       "      <th>answers</th>\n",
       "      <th>id.orig_h</th>\n",
       "      <th>id.orig_p</th>\n",
       "      <th>id.resp_h</th>\n",
       "      <th>...</th>\n",
       "      <th>qclass_name</th>\n",
       "      <th>qtype</th>\n",
       "      <th>qtype_name</th>\n",
       "      <th>query</th>\n",
       "      <th>rcode</th>\n",
       "      <th>rcode_name</th>\n",
       "      <th>rejected</th>\n",
       "      <th>rtt</th>\n",
       "      <th>trans_id</th>\n",
       "      <th>uid</th>\n",
       "    </tr>\n",
       "    <tr>\n",
       "      <th>ts</th>\n",
       "      <th></th>\n",
       "      <th></th>\n",
       "      <th></th>\n",
       "      <th></th>\n",
       "      <th></th>\n",
       "      <th></th>\n",
       "      <th></th>\n",
       "      <th></th>\n",
       "      <th></th>\n",
       "      <th></th>\n",
       "      <th></th>\n",
       "      <th></th>\n",
       "      <th></th>\n",
       "      <th></th>\n",
       "      <th></th>\n",
       "      <th></th>\n",
       "      <th></th>\n",
       "      <th></th>\n",
       "      <th></th>\n",
       "      <th></th>\n",
       "      <th></th>\n",
       "    </tr>\n",
       "  </thead>\n",
       "  <tbody>\n",
       "    <tr>\n",
       "      <th>2017-12-31 17:00:01.938273</th>\n",
       "      <td>False</td>\n",
       "      <td>False</td>\n",
       "      <td>True</td>\n",
       "      <td>False</td>\n",
       "      <td>-</td>\n",
       "      <td>0</td>\n",
       "      <td>-</td>\n",
       "      <td>192.168.1.165</td>\n",
       "      <td>41584</td>\n",
       "      <td>192.168.1.1</td>\n",
       "      <td>...</td>\n",
       "      <td>C_INTERNET</td>\n",
       "      <td>1</td>\n",
       "      <td>A</td>\n",
       "      <td>unifi.lan</td>\n",
       "      <td>3</td>\n",
       "      <td>NXDOMAIN</td>\n",
       "      <td>True</td>\n",
       "      <td>00:00:00</td>\n",
       "      <td>24784</td>\n",
       "      <td>C7tuuA4vfshEl4XAmi</td>\n",
       "    </tr>\n",
       "    <tr>\n",
       "      <th>2017-12-31 17:00:01.938873</th>\n",
       "      <td>False</td>\n",
       "      <td>False</td>\n",
       "      <td>True</td>\n",
       "      <td>False</td>\n",
       "      <td>-</td>\n",
       "      <td>0</td>\n",
       "      <td>-</td>\n",
       "      <td>192.168.1.165</td>\n",
       "      <td>41584</td>\n",
       "      <td>192.168.1.1</td>\n",
       "      <td>...</td>\n",
       "      <td>C_INTERNET</td>\n",
       "      <td>1</td>\n",
       "      <td>A</td>\n",
       "      <td>unifi</td>\n",
       "      <td>0</td>\n",
       "      <td>NOERROR</td>\n",
       "      <td>True</td>\n",
       "      <td>00:00:00</td>\n",
       "      <td>46519</td>\n",
       "      <td>C7tuuA4vfshEl4XAmi</td>\n",
       "    </tr>\n",
       "    <tr>\n",
       "      <th>2017-12-31 17:00:07.000664</th>\n",
       "      <td>False</td>\n",
       "      <td>True</td>\n",
       "      <td>True</td>\n",
       "      <td>False</td>\n",
       "      <td>40.000000,40.000000,40.000000,40.000000,40.000...</td>\n",
       "      <td>0</td>\n",
       "      <td>2620:149:a42:206::4,2620:149:a42:206::6,2620:1...</td>\n",
       "      <td>192.168.1.173</td>\n",
       "      <td>51497</td>\n",
       "      <td>192.168.1.1</td>\n",
       "      <td>...</td>\n",
       "      <td>C_INTERNET</td>\n",
       "      <td>28</td>\n",
       "      <td>AAAA</td>\n",
       "      <td>p48-keyvalueservice.fe.apple-dns.net</td>\n",
       "      <td>0</td>\n",
       "      <td>NOERROR</td>\n",
       "      <td>False</td>\n",
       "      <td>00:00:00.010995</td>\n",
       "      <td>36738</td>\n",
       "      <td>CmRhG43n8e46gH8A9</td>\n",
       "    </tr>\n",
       "    <tr>\n",
       "      <th>2017-12-31 17:00:07.000665</th>\n",
       "      <td>False</td>\n",
       "      <td>True</td>\n",
       "      <td>True</td>\n",
       "      <td>False</td>\n",
       "      <td>54.000000,54.000000,54.000000,54.000000,54.000...</td>\n",
       "      <td>0</td>\n",
       "      <td>17.248.131.179,17.248.131.176,17.248.131.144,1...</td>\n",
       "      <td>192.168.1.173</td>\n",
       "      <td>62477</td>\n",
       "      <td>192.168.1.1</td>\n",
       "      <td>...</td>\n",
       "      <td>C_INTERNET</td>\n",
       "      <td>1</td>\n",
       "      <td>A</td>\n",
       "      <td>p48-keyvalueservice.fe.apple-dns.net</td>\n",
       "      <td>0</td>\n",
       "      <td>NOERROR</td>\n",
       "      <td>False</td>\n",
       "      <td>00:00:00.015727</td>\n",
       "      <td>8402</td>\n",
       "      <td>CQ6wSU3xOCCuBoCwBf</td>\n",
       "    </tr>\n",
       "    <tr>\n",
       "      <th>2017-12-31 17:00:07.077026</th>\n",
       "      <td>False</td>\n",
       "      <td>True</td>\n",
       "      <td>True</td>\n",
       "      <td>False</td>\n",
       "      <td>282.000000,282.000000,282.000000,282.000000,28...</td>\n",
       "      <td>0</td>\n",
       "      <td>2400:cb00:2048:1::6810:d607,2400:cb00:2048:1::...</td>\n",
       "      <td>192.168.1.173</td>\n",
       "      <td>58408</td>\n",
       "      <td>192.168.1.1</td>\n",
       "      <td>...</td>\n",
       "      <td>C_INTERNET</td>\n",
       "      <td>28</td>\n",
       "      <td>AAAA</td>\n",
       "      <td>airspace-cdn.acmeaom.com.cdn.cloudflare.net</td>\n",
       "      <td>0</td>\n",
       "      <td>NOERROR</td>\n",
       "      <td>False</td>\n",
       "      <td>00:00:00.010744</td>\n",
       "      <td>59043</td>\n",
       "      <td>CLdc8w34adXxSum3Y1</td>\n",
       "    </tr>\n",
       "  </tbody>\n",
       "</table>\n",
       "<p>5 rows × 23 columns</p>\n",
       "</div>"
      ],
      "text/plain": [
       "                               AA     RA    RD     TC  \\\n",
       "ts                                                      \n",
       "2017-12-31 17:00:01.938273  False  False  True  False   \n",
       "2017-12-31 17:00:01.938873  False  False  True  False   \n",
       "2017-12-31 17:00:07.000664  False   True  True  False   \n",
       "2017-12-31 17:00:07.000665  False   True  True  False   \n",
       "2017-12-31 17:00:07.077026  False   True  True  False   \n",
       "\n",
       "                                                                         TTLs  \\\n",
       "ts                                                                              \n",
       "2017-12-31 17:00:01.938273                                                  -   \n",
       "2017-12-31 17:00:01.938873                                                  -   \n",
       "2017-12-31 17:00:07.000664  40.000000,40.000000,40.000000,40.000000,40.000...   \n",
       "2017-12-31 17:00:07.000665  54.000000,54.000000,54.000000,54.000000,54.000...   \n",
       "2017-12-31 17:00:07.077026  282.000000,282.000000,282.000000,282.000000,28...   \n",
       "\n",
       "                            Z  \\\n",
       "ts                              \n",
       "2017-12-31 17:00:01.938273  0   \n",
       "2017-12-31 17:00:01.938873  0   \n",
       "2017-12-31 17:00:07.000664  0   \n",
       "2017-12-31 17:00:07.000665  0   \n",
       "2017-12-31 17:00:07.077026  0   \n",
       "\n",
       "                                                                      answers  \\\n",
       "ts                                                                              \n",
       "2017-12-31 17:00:01.938273                                                  -   \n",
       "2017-12-31 17:00:01.938873                                                  -   \n",
       "2017-12-31 17:00:07.000664  2620:149:a42:206::4,2620:149:a42:206::6,2620:1...   \n",
       "2017-12-31 17:00:07.000665  17.248.131.179,17.248.131.176,17.248.131.144,1...   \n",
       "2017-12-31 17:00:07.077026  2400:cb00:2048:1::6810:d607,2400:cb00:2048:1::...   \n",
       "\n",
       "                                id.orig_h  id.orig_p    id.resp_h  \\\n",
       "ts                                                                  \n",
       "2017-12-31 17:00:01.938273  192.168.1.165      41584  192.168.1.1   \n",
       "2017-12-31 17:00:01.938873  192.168.1.165      41584  192.168.1.1   \n",
       "2017-12-31 17:00:07.000664  192.168.1.173      51497  192.168.1.1   \n",
       "2017-12-31 17:00:07.000665  192.168.1.173      62477  192.168.1.1   \n",
       "2017-12-31 17:00:07.077026  192.168.1.173      58408  192.168.1.1   \n",
       "\n",
       "                                   ...          qclass_name qtype  qtype_name  \\\n",
       "ts                                 ...                                          \n",
       "2017-12-31 17:00:01.938273         ...           C_INTERNET     1           A   \n",
       "2017-12-31 17:00:01.938873         ...           C_INTERNET     1           A   \n",
       "2017-12-31 17:00:07.000664         ...           C_INTERNET    28        AAAA   \n",
       "2017-12-31 17:00:07.000665         ...           C_INTERNET     1           A   \n",
       "2017-12-31 17:00:07.077026         ...           C_INTERNET    28        AAAA   \n",
       "\n",
       "                                                                  query  \\\n",
       "ts                                                                        \n",
       "2017-12-31 17:00:01.938273                                    unifi.lan   \n",
       "2017-12-31 17:00:01.938873                                        unifi   \n",
       "2017-12-31 17:00:07.000664         p48-keyvalueservice.fe.apple-dns.net   \n",
       "2017-12-31 17:00:07.000665         p48-keyvalueservice.fe.apple-dns.net   \n",
       "2017-12-31 17:00:07.077026  airspace-cdn.acmeaom.com.cdn.cloudflare.net   \n",
       "\n",
       "                            rcode rcode_name rejected             rtt  \\\n",
       "ts                                                                      \n",
       "2017-12-31 17:00:01.938273      3   NXDOMAIN     True        00:00:00   \n",
       "2017-12-31 17:00:01.938873      0    NOERROR     True        00:00:00   \n",
       "2017-12-31 17:00:07.000664      0    NOERROR    False 00:00:00.010995   \n",
       "2017-12-31 17:00:07.000665      0    NOERROR    False 00:00:00.015727   \n",
       "2017-12-31 17:00:07.077026      0    NOERROR    False 00:00:00.010744   \n",
       "\n",
       "                           trans_id                 uid  \n",
       "ts                                                       \n",
       "2017-12-31 17:00:01.938273    24784  C7tuuA4vfshEl4XAmi  \n",
       "2017-12-31 17:00:01.938873    46519  C7tuuA4vfshEl4XAmi  \n",
       "2017-12-31 17:00:07.000664    36738   CmRhG43n8e46gH8A9  \n",
       "2017-12-31 17:00:07.000665     8402  CQ6wSU3xOCCuBoCwBf  \n",
       "2017-12-31 17:00:07.077026    59043  CLdc8w34adXxSum3Y1  \n",
       "\n",
       "[5 rows x 23 columns]"
      ]
     },
     "execution_count": 11,
     "metadata": {},
     "output_type": "execute_result"
    }
   ],
   "source": [
    "dns_norm_df.head(5)"
   ]
  },
  {
   "cell_type": "code",
   "execution_count": 12,
   "metadata": {},
   "outputs": [
    {
     "data": {
      "text/html": [
       "<div>\n",
       "<style>\n",
       "    .dataframe thead tr:only-child th {\n",
       "        text-align: right;\n",
       "    }\n",
       "\n",
       "    .dataframe thead th {\n",
       "        text-align: left;\n",
       "    }\n",
       "\n",
       "    .dataframe tbody tr th {\n",
       "        vertical-align: top;\n",
       "    }\n",
       "</style>\n",
       "<table border=\"1\" class=\"dataframe\">\n",
       "  <thead>\n",
       "    <tr style=\"text-align: right;\">\n",
       "      <th></th>\n",
       "      <th>conn_state</th>\n",
       "      <th>duration</th>\n",
       "      <th>history</th>\n",
       "      <th>id.orig_h</th>\n",
       "      <th>id.orig_p</th>\n",
       "      <th>id.resp_h</th>\n",
       "      <th>id.resp_p</th>\n",
       "      <th>local_orig</th>\n",
       "      <th>local_resp</th>\n",
       "      <th>missed_bytes</th>\n",
       "      <th>...</th>\n",
       "      <th>orig_pkts</th>\n",
       "      <th>proto</th>\n",
       "      <th>resp_bytes</th>\n",
       "      <th>resp_cc</th>\n",
       "      <th>resp_ip_bytes</th>\n",
       "      <th>resp_pkts</th>\n",
       "      <th>sensorname</th>\n",
       "      <th>service</th>\n",
       "      <th>tunnel_parents</th>\n",
       "      <th>uid</th>\n",
       "    </tr>\n",
       "    <tr>\n",
       "      <th>ts</th>\n",
       "      <th></th>\n",
       "      <th></th>\n",
       "      <th></th>\n",
       "      <th></th>\n",
       "      <th></th>\n",
       "      <th></th>\n",
       "      <th></th>\n",
       "      <th></th>\n",
       "      <th></th>\n",
       "      <th></th>\n",
       "      <th></th>\n",
       "      <th></th>\n",
       "      <th></th>\n",
       "      <th></th>\n",
       "      <th></th>\n",
       "      <th></th>\n",
       "      <th></th>\n",
       "      <th></th>\n",
       "      <th></th>\n",
       "      <th></th>\n",
       "      <th></th>\n",
       "    </tr>\n",
       "  </thead>\n",
       "  <tbody>\n",
       "    <tr>\n",
       "      <th>2017-12-31 16:59:44.996915</th>\n",
       "      <td>SF</td>\n",
       "      <td>00:00:00.021379</td>\n",
       "      <td>Dd</td>\n",
       "      <td>192.168.1.241</td>\n",
       "      <td>33706</td>\n",
       "      <td>8.8.8.8</td>\n",
       "      <td>53</td>\n",
       "      <td>True</td>\n",
       "      <td>False</td>\n",
       "      <td>0</td>\n",
       "      <td>...</td>\n",
       "      <td>1</td>\n",
       "      <td>udp</td>\n",
       "      <td>95</td>\n",
       "      <td>US</td>\n",
       "      <td>123</td>\n",
       "      <td>1</td>\n",
       "      <td>forest-eth1</td>\n",
       "      <td>dns</td>\n",
       "      <td>(empty)</td>\n",
       "      <td>CgOt4X2CToxwaqJ72h</td>\n",
       "    </tr>\n",
       "    <tr>\n",
       "      <th>2017-12-31 16:59:45.018768</th>\n",
       "      <td>SF</td>\n",
       "      <td>00:00:00.021652</td>\n",
       "      <td>Dd</td>\n",
       "      <td>192.168.1.241</td>\n",
       "      <td>58086</td>\n",
       "      <td>8.8.8.8</td>\n",
       "      <td>53</td>\n",
       "      <td>True</td>\n",
       "      <td>False</td>\n",
       "      <td>0</td>\n",
       "      <td>...</td>\n",
       "      <td>1</td>\n",
       "      <td>udp</td>\n",
       "      <td>99</td>\n",
       "      <td>US</td>\n",
       "      <td>127</td>\n",
       "      <td>1</td>\n",
       "      <td>forest-eth1</td>\n",
       "      <td>dns</td>\n",
       "      <td>(empty)</td>\n",
       "      <td>CPrRd81NmpwZ8wuIq6</td>\n",
       "    </tr>\n",
       "    <tr>\n",
       "      <th>2017-12-31 16:59:01.286540</th>\n",
       "      <td>S0</td>\n",
       "      <td>00:00:00</td>\n",
       "      <td>D</td>\n",
       "      <td>192.168.1.165</td>\n",
       "      <td>39260</td>\n",
       "      <td>255.255.255.255</td>\n",
       "      <td>10001</td>\n",
       "      <td>True</td>\n",
       "      <td>False</td>\n",
       "      <td>0</td>\n",
       "      <td>...</td>\n",
       "      <td>1</td>\n",
       "      <td>udp</td>\n",
       "      <td>0</td>\n",
       "      <td>-</td>\n",
       "      <td>0</td>\n",
       "      <td>0</td>\n",
       "      <td>forest-eth1</td>\n",
       "      <td>-</td>\n",
       "      <td>(empty)</td>\n",
       "      <td>CQ6hEf2S1VADKKHDl2</td>\n",
       "    </tr>\n",
       "    <tr>\n",
       "      <th>2017-12-31 17:00:01.841136</th>\n",
       "      <td>SF</td>\n",
       "      <td>00:00:00.039987</td>\n",
       "      <td>ShADadFf</td>\n",
       "      <td>192.168.1.240</td>\n",
       "      <td>56050</td>\n",
       "      <td>192.168.1.241</td>\n",
       "      <td>4506</td>\n",
       "      <td>True</td>\n",
       "      <td>True</td>\n",
       "      <td>0</td>\n",
       "      <td>...</td>\n",
       "      <td>9</td>\n",
       "      <td>tcp</td>\n",
       "      <td>1398</td>\n",
       "      <td>-</td>\n",
       "      <td>1770</td>\n",
       "      <td>7</td>\n",
       "      <td>forest-eth1</td>\n",
       "      <td>-</td>\n",
       "      <td>(empty)</td>\n",
       "      <td>CVyhnT397Wd2ptB4Vi</td>\n",
       "    </tr>\n",
       "    <tr>\n",
       "      <th>2017-12-31 16:59:07.014457</th>\n",
       "      <td>S0</td>\n",
       "      <td>00:00:00.995528</td>\n",
       "      <td>D</td>\n",
       "      <td>192.168.1.222</td>\n",
       "      <td>1900</td>\n",
       "      <td>192.168.1.241</td>\n",
       "      <td>43112</td>\n",
       "      <td>True</td>\n",
       "      <td>True</td>\n",
       "      <td>0</td>\n",
       "      <td>...</td>\n",
       "      <td>2</td>\n",
       "      <td>udp</td>\n",
       "      <td>0</td>\n",
       "      <td>-</td>\n",
       "      <td>0</td>\n",
       "      <td>0</td>\n",
       "      <td>forest-eth1</td>\n",
       "      <td>-</td>\n",
       "      <td>(empty)</td>\n",
       "      <td>Cwzx6W3Kgs4tTEfQR5</td>\n",
       "    </tr>\n",
       "  </tbody>\n",
       "</table>\n",
       "<p>5 rows × 23 columns</p>\n",
       "</div>"
      ],
      "text/plain": [
       "                           conn_state        duration   history  \\\n",
       "ts                                                                \n",
       "2017-12-31 16:59:44.996915         SF 00:00:00.021379        Dd   \n",
       "2017-12-31 16:59:45.018768         SF 00:00:00.021652        Dd   \n",
       "2017-12-31 16:59:01.286540         S0        00:00:00         D   \n",
       "2017-12-31 17:00:01.841136         SF 00:00:00.039987  ShADadFf   \n",
       "2017-12-31 16:59:07.014457         S0 00:00:00.995528         D   \n",
       "\n",
       "                                id.orig_h  id.orig_p        id.resp_h  \\\n",
       "ts                                                                      \n",
       "2017-12-31 16:59:44.996915  192.168.1.241      33706          8.8.8.8   \n",
       "2017-12-31 16:59:45.018768  192.168.1.241      58086          8.8.8.8   \n",
       "2017-12-31 16:59:01.286540  192.168.1.165      39260  255.255.255.255   \n",
       "2017-12-31 17:00:01.841136  192.168.1.240      56050    192.168.1.241   \n",
       "2017-12-31 16:59:07.014457  192.168.1.222       1900    192.168.1.241   \n",
       "\n",
       "                            id.resp_p  local_orig  local_resp  missed_bytes  \\\n",
       "ts                                                                            \n",
       "2017-12-31 16:59:44.996915         53        True       False             0   \n",
       "2017-12-31 16:59:45.018768         53        True       False             0   \n",
       "2017-12-31 16:59:01.286540      10001        True       False             0   \n",
       "2017-12-31 17:00:01.841136       4506        True        True             0   \n",
       "2017-12-31 16:59:07.014457      43112        True        True             0   \n",
       "\n",
       "                                   ...          orig_pkts proto  resp_bytes  \\\n",
       "ts                                 ...                                        \n",
       "2017-12-31 16:59:44.996915         ...                  1   udp          95   \n",
       "2017-12-31 16:59:45.018768         ...                  1   udp          99   \n",
       "2017-12-31 16:59:01.286540         ...                  1   udp           0   \n",
       "2017-12-31 17:00:01.841136         ...                  9   tcp        1398   \n",
       "2017-12-31 16:59:07.014457         ...                  2   udp           0   \n",
       "\n",
       "                            resp_cc resp_ip_bytes  resp_pkts   sensorname  \\\n",
       "ts                                                                          \n",
       "2017-12-31 16:59:44.996915       US           123          1  forest-eth1   \n",
       "2017-12-31 16:59:45.018768       US           127          1  forest-eth1   \n",
       "2017-12-31 16:59:01.286540        -             0          0  forest-eth1   \n",
       "2017-12-31 17:00:01.841136        -          1770          7  forest-eth1   \n",
       "2017-12-31 16:59:07.014457        -             0          0  forest-eth1   \n",
       "\n",
       "                            service  tunnel_parents                 uid  \n",
       "ts                                                                       \n",
       "2017-12-31 16:59:44.996915      dns         (empty)  CgOt4X2CToxwaqJ72h  \n",
       "2017-12-31 16:59:45.018768      dns         (empty)  CPrRd81NmpwZ8wuIq6  \n",
       "2017-12-31 16:59:01.286540        -         (empty)  CQ6hEf2S1VADKKHDl2  \n",
       "2017-12-31 17:00:01.841136        -         (empty)  CVyhnT397Wd2ptB4Vi  \n",
       "2017-12-31 16:59:07.014457        -         (empty)  Cwzx6W3Kgs4tTEfQR5  \n",
       "\n",
       "[5 rows x 23 columns]"
      ]
     },
     "execution_count": 12,
     "metadata": {},
     "output_type": "execute_result"
    }
   ],
   "source": [
    "conn_norm_df.head(5)"
   ]
  },
  {
   "cell_type": "code",
   "execution_count": 13,
   "metadata": {},
   "outputs": [],
   "source": [
    "norm_df = pd.merge(dns_norm_df, conn_norm_df, on='uid')"
   ]
  },
  {
   "cell_type": "code",
   "execution_count": 14,
   "metadata": {},
   "outputs": [
    {
     "data": {
      "text/plain": [
       "(34789, 45)"
      ]
     },
     "execution_count": 14,
     "metadata": {},
     "output_type": "execute_result"
    }
   ],
   "source": [
    "norm_df.shape"
   ]
  },
  {
   "cell_type": "code",
   "execution_count": 15,
   "metadata": {},
   "outputs": [
    {
     "name": "stdout",
     "output_type": "stream",
     "text": [
      "<class 'pandas.core.frame.DataFrame'>\n",
      "Int64Index: 34789 entries, 0 to 34788\n",
      "Data columns (total 45 columns):\n",
      "AA                34789 non-null bool\n",
      "RA                34789 non-null bool\n",
      "RD                34789 non-null bool\n",
      "TC                34789 non-null bool\n",
      "TTLs              34789 non-null object\n",
      "Z                 34789 non-null int64\n",
      "answers           34789 non-null object\n",
      "id.orig_h_x       34789 non-null object\n",
      "id.orig_p_x       34789 non-null int64\n",
      "id.resp_h_x       34789 non-null object\n",
      "id.resp_p_x       34789 non-null int64\n",
      "proto_x           34789 non-null object\n",
      "qclass            34789 non-null int64\n",
      "qclass_name       34789 non-null object\n",
      "qtype             34789 non-null int64\n",
      "qtype_name        34789 non-null object\n",
      "query             34789 non-null object\n",
      "rcode             34789 non-null int64\n",
      "rcode_name        34789 non-null object\n",
      "rejected          34789 non-null bool\n",
      "rtt               34789 non-null timedelta64[ns]\n",
      "trans_id          34789 non-null int64\n",
      "uid               34789 non-null object\n",
      "conn_state        34789 non-null object\n",
      "duration          34789 non-null timedelta64[ns]\n",
      "history           34789 non-null object\n",
      "id.orig_h_y       34789 non-null object\n",
      "id.orig_p_y       34789 non-null int64\n",
      "id.resp_h_y       34789 non-null object\n",
      "id.resp_p_y       34789 non-null int64\n",
      "local_orig        34789 non-null bool\n",
      "local_resp        34789 non-null bool\n",
      "missed_bytes      34789 non-null int64\n",
      "orig_bytes        34789 non-null int64\n",
      "orig_cc           34789 non-null object\n",
      "orig_ip_bytes     34789 non-null int64\n",
      "orig_pkts         34789 non-null int64\n",
      "proto_y           34789 non-null object\n",
      "resp_bytes        34789 non-null int64\n",
      "resp_cc           34789 non-null object\n",
      "resp_ip_bytes     34789 non-null int64\n",
      "resp_pkts         34789 non-null int64\n",
      "sensorname        34789 non-null object\n",
      "service           34789 non-null object\n",
      "tunnel_parents    34789 non-null object\n",
      "dtypes: bool(7), int64(16), object(20), timedelta64[ns](2)\n",
      "memory usage: 10.6+ MB\n"
     ]
    }
   ],
   "source": [
    "norm_df.info()"
   ]
  },
  {
   "cell_type": "code",
   "execution_count": 17,
   "metadata": {},
   "outputs": [],
   "source": [
    "norm_df['pcr'] = (norm_df.orig_bytes - norm_df.resp_bytes) / (norm_df.orig_bytes + norm_df.resp_bytes) "
   ]
  },
  {
   "cell_type": "code",
   "execution_count": 67,
   "metadata": {},
   "outputs": [],
   "source": [
    "norm_df.to_hdf('./data/home/dns_and_conn_20180101.h5', 'test', complevel=9, complib='zlib')"
   ]
  },
  {
   "cell_type": "code",
   "execution_count": 70,
   "metadata": {},
   "outputs": [
    {
     "name": "stdout",
     "output_type": "stream",
     "text": [
      "-rw-r--r--  1 rob  staff   9.3M Jan 14 13:35 ./data/home/key_to_finding_data.h5\n",
      "-rw-r--r--  1 rob  staff   9.3M Jan 14 13:35 ./data/home/test.h5\n"
     ]
    }
   ],
   "source": [
    "!ls -lh ./data/home/*.h5"
   ]
  },
  {
   "cell_type": "code",
   "execution_count": 65,
   "metadata": {},
   "outputs": [],
   "source": [
    "key = 'key_to_finding_data'\n",
    "log_munger.df_to_hdf5(norm_df, key, './data/home/')"
   ]
  },
  {
   "cell_type": "code",
   "execution_count": 71,
   "metadata": {},
   "outputs": [],
   "source": [
    "data_dir = './data/home'\n",
    "df = log_munger.hdf5_to_df(data_dir, key)"
   ]
  },
  {
   "cell_type": "code",
   "execution_count": 74,
   "metadata": {},
   "outputs": [
    {
     "data": {
      "text/plain": [
       "True"
      ]
     },
     "execution_count": 74,
     "metadata": {},
     "output_type": "execute_result"
    }
   ],
   "source": [
    "df.shape == norm_df.shape"
   ]
  },
  {
   "cell_type": "code",
   "execution_count": 75,
   "metadata": {},
   "outputs": [
    {
     "data": {
      "text/plain": [
       "True"
      ]
     },
     "execution_count": 75,
     "metadata": {},
     "output_type": "execute_result"
    }
   ],
   "source": [
    "df.equals(norm_df)"
   ]
  },
  {
   "cell_type": "code",
   "execution_count": 83,
   "metadata": {},
   "outputs": [],
   "source": [
    "norm_df['label'] = 0"
   ]
  },
  {
   "cell_type": "code",
   "execution_count": 84,
   "metadata": {},
   "outputs": [
    {
     "data": {
      "text/plain": [
       "Index(['AA', 'RA', 'RD', 'TC', 'TTLs', 'Z', 'answers', 'id.orig_h_x',\n",
       "       'id.orig_p_x', 'id.resp_h_x', 'id.resp_p_x', 'proto_x', 'qclass',\n",
       "       'qclass_name', 'qtype', 'qtype_name', 'query', 'rcode', 'rcode_name',\n",
       "       'rejected', 'rtt', 'trans_id', 'uid', 'conn_state', 'duration',\n",
       "       'history', 'id.orig_h_y', 'id.orig_p_y', 'id.resp_h_y', 'id.resp_p_y',\n",
       "       'local_orig', 'local_resp', 'missed_bytes', 'orig_bytes', 'orig_cc',\n",
       "       'orig_ip_bytes', 'orig_pkts', 'proto_y', 'resp_bytes', 'resp_cc',\n",
       "       'resp_ip_bytes', 'resp_pkts', 'sensorname', 'service', 'tunnel_parents',\n",
       "       'pcr', 'label'],\n",
       "      dtype='object')"
      ]
     },
     "execution_count": 84,
     "metadata": {},
     "output_type": "execute_result"
    }
   ],
   "source": [
    "norm_df.columns"
   ]
  },
  {
   "cell_type": "code",
   "execution_count": 79,
   "metadata": {},
   "outputs": [
    {
     "name": "stdout",
     "output_type": "stream",
     "text": [
      "Successfully monitoring ./data/c2/dnscat2/dns.log...\n",
      "Successfully monitoring ./data/c2/iodine-forwarded/dns.log...\n",
      "Successfully monitoring ./data/c2/iodine-raw/dns.log...\n",
      "Successfully monitoring ./data/c2/dnscat2/conn.log...\n",
      "Successfully monitoring ./data/c2/icmptunnel/conn.log...\n",
      "Successfully monitoring ./data/c2/iodine-forwarded/conn.log...\n",
      "Successfully monitoring ./data/c2/iodine-raw/conn.log...\n",
      "Successfully monitoring ./data/c2/ptunnel/conn.log...\n"
     ]
    }
   ],
   "source": [
    "mal_dns_df = log_munger.bro_logs_to_df('./data/c2', 'dns')\n",
    "mal_conn_df = log_munger.bro_logs_to_df('./data/c2', 'conn')"
   ]
  },
  {
   "cell_type": "code",
   "execution_count": 80,
   "metadata": {},
   "outputs": [],
   "source": [
    "mal_df = pd.merge(mal_dns_df, mal_conn_df, on='uid')"
   ]
  },
  {
   "cell_type": "code",
   "execution_count": 85,
   "metadata": {},
   "outputs": [],
   "source": [
    "mal_df['label'] = 1"
   ]
  },
  {
   "cell_type": "code",
   "execution_count": 86,
   "metadata": {},
   "outputs": [
    {
     "data": {
      "text/plain": [
       "((3445, 22), (3459, 20), (3445, 42))"
      ]
     },
     "execution_count": 86,
     "metadata": {},
     "output_type": "execute_result"
    }
   ],
   "source": [
    "mal_dns_df.shape, mal_conn_df.shape, mal_df.shape"
   ]
  },
  {
   "cell_type": "code",
   "execution_count": 87,
   "metadata": {},
   "outputs": [],
   "source": [
    "log_munger.generate_pcr_feature(mal_df)"
   ]
  },
  {
   "cell_type": "code",
   "execution_count": 88,
   "metadata": {},
   "outputs": [
    {
     "data": {
      "text/plain": [
       "(3445, 43)"
      ]
     },
     "execution_count": 88,
     "metadata": {},
     "output_type": "execute_result"
    }
   ],
   "source": [
    "mal_df.shape"
   ]
  },
  {
   "cell_type": "code",
   "execution_count": 90,
   "metadata": {},
   "outputs": [
    {
     "name": "stdout",
     "output_type": "stream",
     "text": [
      "Object `pd.append` not found.\n"
     ]
    }
   ],
   "source": [
    "df = pd.append?"
   ]
  },
  {
   "cell_type": "code",
   "execution_count": 122,
   "metadata": {},
   "outputs": [],
   "source": [
    "df = norm_df.append(mal_df)"
   ]
  },
  {
   "cell_type": "code",
   "execution_count": 123,
   "metadata": {},
   "outputs": [
    {
     "data": {
      "text/plain": [
       "((38234, 47), (34789, 47), (3445, 43))"
      ]
     },
     "execution_count": 123,
     "metadata": {},
     "output_type": "execute_result"
    }
   ],
   "source": [
    "df.shape, norm_df.shape, mal_df.shape"
   ]
  },
  {
   "cell_type": "code",
   "execution_count": 124,
   "metadata": {},
   "outputs": [],
   "source": [
    "m = set(mal_df.columns)\n",
    "n = set(norm_df.columns)"
   ]
  },
  {
   "cell_type": "code",
   "execution_count": 125,
   "metadata": {},
   "outputs": [],
   "source": [
    "inconsistent_columns = {r for r in n if r not in m}"
   ]
  },
  {
   "cell_type": "code",
   "execution_count": 126,
   "metadata": {},
   "outputs": [],
   "source": [
    "df = df.drop(inconsistent_columns, axis=1)"
   ]
  },
  {
   "cell_type": "code",
   "execution_count": 127,
   "metadata": {},
   "outputs": [
    {
     "data": {
      "text/plain": [
       "(38234, 43)"
      ]
     },
     "execution_count": 127,
     "metadata": {},
     "output_type": "execute_result"
    }
   ],
   "source": [
    "df.shape"
   ]
  },
  {
   "cell_type": "code",
   "execution_count": 137,
   "metadata": {},
   "outputs": [
    {
     "data": {
      "text/plain": [
       "((19117, 43), (19117, 43))"
      ]
     },
     "execution_count": 137,
     "metadata": {},
     "output_type": "execute_result"
    }
   ],
   "source": [
    "from sklearn.model_selection import train_test_split\n",
    "train, test = train_test_split(df, random_state=37, test_size=0.5)\n",
    "train.shape, test.shape"
   ]
  },
  {
   "cell_type": "code",
   "execution_count": 141,
   "metadata": {},
   "outputs": [
    {
     "data": {
      "text/plain": [
       "((17409, 43), (1708, 43), 15701)"
      ]
     },
     "execution_count": 141,
     "metadata": {},
     "output_type": "execute_result"
    }
   ],
   "source": [
    "train_majority = train[train.label==0]\n",
    "train_minority = train[train.label==1]\n",
    "train_deficit = len(train_majority) - len(train_minority)\n",
    "train_majority.shape, train_minority.shape, train_deficit"
   ]
  },
  {
   "cell_type": "code",
   "execution_count": 145,
   "metadata": {},
   "outputs": [],
   "source": [
    "from sklearn.utils import resample\n",
    "train_minority_resampled = resample(train_minority,\n",
    "                                replace=True,\n",
    "                                random_state=37,\n",
    "                                n_samples=len(train_majority))"
   ]
  },
  {
   "cell_type": "code",
   "execution_count": 146,
   "metadata": {},
   "outputs": [
    {
     "data": {
      "text/plain": [
       "((1708, 43), (17409, 43))"
      ]
     },
     "execution_count": 146,
     "metadata": {},
     "output_type": "execute_result"
    }
   ],
   "source": [
    "train_minority.shape, train_minority_resampled.shape"
   ]
  },
  {
   "cell_type": "code",
   "execution_count": 149,
   "metadata": {},
   "outputs": [
    {
     "data": {
      "text/plain": [
       "(34818, 43)"
      ]
     },
     "execution_count": 149,
     "metadata": {},
     "output_type": "execute_result"
    }
   ],
   "source": [
    "train_resampled = train_majority.append(train_minority_resampled)\n",
    "train_resampled.shape"
   ]
  },
  {
   "cell_type": "code",
   "execution_count": 150,
   "metadata": {},
   "outputs": [],
   "source": [
    "X_train = train_resampled.copy(deep=True)"
   ]
  },
  {
   "cell_type": "code",
   "execution_count": 151,
   "metadata": {},
   "outputs": [
    {
     "data": {
      "text/plain": [
       "((34818,), (34818, 42))"
      ]
     },
     "execution_count": 151,
     "metadata": {},
     "output_type": "execute_result"
    }
   ],
   "source": [
    "y_train = X_train.pop('label')\n",
    "y_train.shape, X_train.shape"
   ]
  },
  {
   "cell_type": "code",
   "execution_count": 160,
   "metadata": {},
   "outputs": [],
   "source": [
    "import numpy as np\n",
    "import pandas as pd\n",
    "import seaborn as sns\n",
    "import matplotlib.pyplot as plt\n",
    "%matplotlib inline"
   ]
  },
  {
   "cell_type": "code",
   "execution_count": 167,
   "metadata": {},
   "outputs": [],
   "source": [
    "corr = X_train.corr()"
   ]
  },
  {
   "cell_type": "code",
   "execution_count": 168,
   "metadata": {},
   "outputs": [],
   "source": [
    "mask = np.zeros_like(corr, dtype=np.bool)\n",
    "mask[np.triu_indices_from(mask)] = True"
   ]
  },
  {
   "cell_type": "code",
   "execution_count": 176,
   "metadata": {},
   "outputs": [
    {
     "data": {
      "text/plain": [
       "<matplotlib.axes._subplots.AxesSubplot at 0x11164a6a0>"
      ]
     },
     "execution_count": 176,
     "metadata": {},
     "output_type": "execute_result"
    },
    {
     "data": {
      "image/png": "[encoded data removed]",
      "text/plain": [
       "<matplotlib.figure.Figure at 0x111732f98>"
      ]
     },
     "metadata": {},
     "output_type": "display_data"
    }
   ],
   "source": [
    "f, ax = plt.subplots(figsize=(16, 12))\n",
    "sns.set(style='white')\n",
    "cmap = sns.diverging_palette(220, 10, as_cmap=True)\n",
    "sns.heatmap(corr, mask=mask, cmap=cmap, vmax=3, \n",
    "            center=0, square=True, linewidths=.5, \n",
    "            cbar_kws={'shrink': .5})"
   ]
  },
  {
   "cell_type": "code",
   "execution_count": 184,
   "metadata": {},
   "outputs": [],
   "source": [
    "import numpy as np\n",
    "import matplotlib.pyplot as plt\n",
    "from sklearn.pipeline import Pipeline\n",
    "from sklearn.preprocessing import StandardScaler\n",
    "from sklearn import decomposition\n",
    "from sklearn import linear_model"
   ]
  },
  {
   "cell_type": "code",
   "execution_count": 185,
   "metadata": {},
   "outputs": [],
   "source": [
    "scaler = StandardScaler()\n",
    "svd = decomposition.TruncatedSVD(n_components=15, random_state=37, n_iter=10)\n",
    "logistic = linear_model.LogisticRegression()\n",
    "\n",
    "pipeline = Pipeline(steps=[('scaler', scaler), ('svd', svd), ('logistic', logistic)])\n"
   ]
  },
  {
   "cell_type": "code",
   "execution_count": 194,
   "metadata": {},
   "outputs": [
    {
     "data": {
      "text/html": [
       "<div>\n",
       "<style>\n",
       "    .dataframe thead tr:only-child th {\n",
       "        text-align: right;\n",
       "    }\n",
       "\n",
       "    .dataframe thead th {\n",
       "        text-align: left;\n",
       "    }\n",
       "\n",
       "    .dataframe tbody tr th {\n",
       "        vertical-align: top;\n",
       "    }\n",
       "</style>\n",
       "<table border=\"1\" class=\"dataframe\">\n",
       "  <thead>\n",
       "    <tr style=\"text-align: right;\">\n",
       "      <th></th>\n",
       "      <th>AA</th>\n",
       "      <th>RA</th>\n",
       "      <th>RD</th>\n",
       "      <th>TC</th>\n",
       "      <th>Z</th>\n",
       "      <th>duration</th>\n",
       "      <th>id.orig_p_x</th>\n",
       "      <th>id.orig_p_y</th>\n",
       "      <th>id.resp_p_x</th>\n",
       "      <th>id.resp_p_y</th>\n",
       "      <th>...</th>\n",
       "      <th>orig_pkts</th>\n",
       "      <th>pcr</th>\n",
       "      <th>qclass</th>\n",
       "      <th>qtype</th>\n",
       "      <th>rcode</th>\n",
       "      <th>rejected</th>\n",
       "      <th>resp_bytes</th>\n",
       "      <th>resp_ip_bytes</th>\n",
       "      <th>resp_pkts</th>\n",
       "      <th>trans_id</th>\n",
       "    </tr>\n",
       "  </thead>\n",
       "  <tbody>\n",
       "    <tr>\n",
       "      <th>13831</th>\n",
       "      <td>False</td>\n",
       "      <td>False</td>\n",
       "      <td>True</td>\n",
       "      <td>False</td>\n",
       "      <td>0</td>\n",
       "      <td>00:00:00.000991</td>\n",
       "      <td>41584</td>\n",
       "      <td>41584</td>\n",
       "      <td>53</td>\n",
       "      <td>53</td>\n",
       "      <td>...</td>\n",
       "      <td>2</td>\n",
       "      <td>0.000000</td>\n",
       "      <td>1</td>\n",
       "      <td>1</td>\n",
       "      <td>3</td>\n",
       "      <td>True</td>\n",
       "      <td>50</td>\n",
       "      <td>106</td>\n",
       "      <td>2</td>\n",
       "      <td>25810</td>\n",
       "    </tr>\n",
       "    <tr>\n",
       "      <th>15353</th>\n",
       "      <td>False</td>\n",
       "      <td>False</td>\n",
       "      <td>True</td>\n",
       "      <td>False</td>\n",
       "      <td>0</td>\n",
       "      <td>00:00:00.023537</td>\n",
       "      <td>50502</td>\n",
       "      <td>50502</td>\n",
       "      <td>53</td>\n",
       "      <td>53</td>\n",
       "      <td>...</td>\n",
       "      <td>1</td>\n",
       "      <td>-0.609756</td>\n",
       "      <td>1</td>\n",
       "      <td>28</td>\n",
       "      <td>3</td>\n",
       "      <td>False</td>\n",
       "      <td>99</td>\n",
       "      <td>127</td>\n",
       "      <td>1</td>\n",
       "      <td>22175</td>\n",
       "    </tr>\n",
       "    <tr>\n",
       "      <th>27619</th>\n",
       "      <td>False</td>\n",
       "      <td>False</td>\n",
       "      <td>False</td>\n",
       "      <td>False</td>\n",
       "      <td>0</td>\n",
       "      <td>00:00:46.415855</td>\n",
       "      <td>5353</td>\n",
       "      <td>5353</td>\n",
       "      <td>5353</td>\n",
       "      <td>5353</td>\n",
       "      <td>...</td>\n",
       "      <td>14</td>\n",
       "      <td>1.000000</td>\n",
       "      <td>1</td>\n",
       "      <td>12</td>\n",
       "      <td>0</td>\n",
       "      <td>False</td>\n",
       "      <td>0</td>\n",
       "      <td>0</td>\n",
       "      <td>0</td>\n",
       "      <td>0</td>\n",
       "    </tr>\n",
       "    <tr>\n",
       "      <th>24250</th>\n",
       "      <td>False</td>\n",
       "      <td>False</td>\n",
       "      <td>True</td>\n",
       "      <td>False</td>\n",
       "      <td>0</td>\n",
       "      <td>00:00:00.000464</td>\n",
       "      <td>55181</td>\n",
       "      <td>55181</td>\n",
       "      <td>53</td>\n",
       "      <td>53</td>\n",
       "      <td>...</td>\n",
       "      <td>1</td>\n",
       "      <td>0.000000</td>\n",
       "      <td>1</td>\n",
       "      <td>28</td>\n",
       "      <td>0</td>\n",
       "      <td>True</td>\n",
       "      <td>51</td>\n",
       "      <td>79</td>\n",
       "      <td>1</td>\n",
       "      <td>31928</td>\n",
       "    </tr>\n",
       "    <tr>\n",
       "      <th>22095</th>\n",
       "      <td>False</td>\n",
       "      <td>True</td>\n",
       "      <td>True</td>\n",
       "      <td>False</td>\n",
       "      <td>0</td>\n",
       "      <td>00:00:00.000619</td>\n",
       "      <td>32931</td>\n",
       "      <td>32931</td>\n",
       "      <td>53</td>\n",
       "      <td>53</td>\n",
       "      <td>...</td>\n",
       "      <td>1</td>\n",
       "      <td>-0.195122</td>\n",
       "      <td>1</td>\n",
       "      <td>1</td>\n",
       "      <td>0</td>\n",
       "      <td>False</td>\n",
       "      <td>49</td>\n",
       "      <td>77</td>\n",
       "      <td>1</td>\n",
       "      <td>40499</td>\n",
       "    </tr>\n",
       "  </tbody>\n",
       "</table>\n",
       "<p>5 rows × 25 columns</p>\n",
       "</div>"
      ],
      "text/plain": [
       "          AA     RA     RD     TC  Z        duration  id.orig_p_x  \\\n",
       "13831  False  False   True  False  0 00:00:00.000991        41584   \n",
       "15353  False  False   True  False  0 00:00:00.023537        50502   \n",
       "27619  False  False  False  False  0 00:00:46.415855         5353   \n",
       "24250  False  False   True  False  0 00:00:00.000464        55181   \n",
       "22095  False   True   True  False  0 00:00:00.000619        32931   \n",
       "\n",
       "       id.orig_p_y  id.resp_p_x  id.resp_p_y    ...     orig_pkts       pcr  \\\n",
       "13831        41584           53           53    ...             2  0.000000   \n",
       "15353        50502           53           53    ...             1 -0.609756   \n",
       "27619         5353         5353         5353    ...            14  1.000000   \n",
       "24250        55181           53           53    ...             1  0.000000   \n",
       "22095        32931           53           53    ...             1 -0.195122   \n",
       "\n",
       "       qclass  qtype  rcode  rejected  resp_bytes  resp_ip_bytes  resp_pkts  \\\n",
       "13831       1      1      3      True          50            106          2   \n",
       "15353       1     28      3     False          99            127          1   \n",
       "27619       1     12      0     False           0              0          0   \n",
       "24250       1     28      0      True          51             79          1   \n",
       "22095       1      1      0     False          49             77          1   \n",
       "\n",
       "       trans_id  \n",
       "13831     25810  \n",
       "15353     22175  \n",
       "27619         0  \n",
       "24250     31928  \n",
       "22095     40499  \n",
       "\n",
       "[5 rows x 25 columns]"
      ]
     },
     "execution_count": 194,
     "metadata": {},
     "output_type": "execute_result"
    }
   ],
   "source": [
    "numerics = X_train.copy(deep=True)\n",
    "numerics = numerics.drop(['TTLs', 'answers', 'conn_state', 'history', 'id.orig_h_x', \n",
    "                          'id.orig_h_y', 'id.resp_h_x', 'id.resp_h_y', 'proto_x', 'proto_y',\n",
    "                          'qclass_name', 'qtype_name', 'query', 'rcode_name', 'service', 'tunnel_parents',\n",
    "                          'uid'], axis=1)\n",
    "numerics.head(5)"
   ]
  },
  {
   "cell_type": "code",
   "execution_count": 192,
   "metadata": {},
   "outputs": [
    {
     "ename": "ValueError",
     "evalue": "could not convert string to float: 'CVaDxPqnJ2SinMRi'",
     "output_type": "error",
     "traceback": [
      "\u001b[0;31m---------------------------------------------------------------------------\u001b[0m",
      "\u001b[0;31mValueError\u001b[0m                                Traceback (most recent call last)",
      "\u001b[0;32m<ipython-input-192-424394bb99d6>\u001b[0m in \u001b[0;36m<module>\u001b[0;34m()\u001b[0m\n\u001b[1;32m      4\u001b[0m \u001b[0;34m\u001b[0m\u001b[0m\n\u001b[1;32m      5\u001b[0m \u001b[0;31m# Plot the PCA spectrum\u001b[0m\u001b[0;34m\u001b[0m\u001b[0;34m\u001b[0m\u001b[0m\n\u001b[0;32m----> 6\u001b[0;31m \u001b[0msvd\u001b[0m\u001b[0;34m.\u001b[0m\u001b[0mfit\u001b[0m\u001b[0;34m(\u001b[0m\u001b[0mX_digits\u001b[0m\u001b[0;34m)\u001b[0m\u001b[0;34m\u001b[0m\u001b[0m\n\u001b[0m\u001b[1;32m      7\u001b[0m \u001b[0;34m\u001b[0m\u001b[0m\n\u001b[1;32m      8\u001b[0m \u001b[0mplt\u001b[0m\u001b[0;34m.\u001b[0m\u001b[0mfigure\u001b[0m\u001b[0;34m(\u001b[0m\u001b[0;36m1\u001b[0m\u001b[0;34m,\u001b[0m \u001b[0mfigsize\u001b[0m\u001b[0;34m=\u001b[0m\u001b[0;34m(\u001b[0m\u001b[0;36m4\u001b[0m\u001b[0;34m,\u001b[0m \u001b[0;36m3\u001b[0m\u001b[0;34m)\u001b[0m\u001b[0;34m)\u001b[0m\u001b[0;34m\u001b[0m\u001b[0m\n",
      "\u001b[0;32m~/anaconda3/lib/python3.6/site-packages/sklearn/decomposition/truncated_svd.py\u001b[0m in \u001b[0;36mfit\u001b[0;34m(self, X, y)\u001b[0m\n\u001b[1;32m    140\u001b[0m             \u001b[0mReturns\u001b[0m \u001b[0mthe\u001b[0m \u001b[0mtransformer\u001b[0m \u001b[0mobject\u001b[0m\u001b[0;34m.\u001b[0m\u001b[0;34m\u001b[0m\u001b[0m\n\u001b[1;32m    141\u001b[0m         \"\"\"\n\u001b[0;32m--> 142\u001b[0;31m         \u001b[0mself\u001b[0m\u001b[0;34m.\u001b[0m\u001b[0mfit_transform\u001b[0m\u001b[0;34m(\u001b[0m\u001b[0mX\u001b[0m\u001b[0;34m)\u001b[0m\u001b[0;34m\u001b[0m\u001b[0m\n\u001b[0m\u001b[1;32m    143\u001b[0m         \u001b[0;32mreturn\u001b[0m \u001b[0mself\u001b[0m\u001b[0;34m\u001b[0m\u001b[0m\n\u001b[1;32m    144\u001b[0m \u001b[0;34m\u001b[0m\u001b[0m\n",
      "\u001b[0;32m~/anaconda3/lib/python3.6/site-packages/sklearn/decomposition/truncated_svd.py\u001b[0m in \u001b[0;36mfit_transform\u001b[0;34m(self, X, y)\u001b[0m\n\u001b[1;32m    158\u001b[0m             \u001b[0mReduced\u001b[0m \u001b[0mversion\u001b[0m \u001b[0mof\u001b[0m \u001b[0mX\u001b[0m\u001b[0;34m.\u001b[0m \u001b[0mThis\u001b[0m \u001b[0mwill\u001b[0m \u001b[0malways\u001b[0m \u001b[0mbe\u001b[0m \u001b[0ma\u001b[0m \u001b[0mdense\u001b[0m \u001b[0marray\u001b[0m\u001b[0;34m.\u001b[0m\u001b[0;34m\u001b[0m\u001b[0m\n\u001b[1;32m    159\u001b[0m         \"\"\"\n\u001b[0;32m--> 160\u001b[0;31m         \u001b[0mX\u001b[0m \u001b[0;34m=\u001b[0m \u001b[0mcheck_array\u001b[0m\u001b[0;34m(\u001b[0m\u001b[0mX\u001b[0m\u001b[0;34m,\u001b[0m \u001b[0maccept_sparse\u001b[0m\u001b[0;34m=\u001b[0m\u001b[0;34m[\u001b[0m\u001b[0;34m'csr'\u001b[0m\u001b[0;34m,\u001b[0m \u001b[0;34m'csc'\u001b[0m\u001b[0;34m]\u001b[0m\u001b[0;34m)\u001b[0m\u001b[0;34m\u001b[0m\u001b[0m\n\u001b[0m\u001b[1;32m    161\u001b[0m         \u001b[0mrandom_state\u001b[0m \u001b[0;34m=\u001b[0m \u001b[0mcheck_random_state\u001b[0m\u001b[0;34m(\u001b[0m\u001b[0mself\u001b[0m\u001b[0;34m.\u001b[0m\u001b[0mrandom_state\u001b[0m\u001b[0;34m)\u001b[0m\u001b[0;34m\u001b[0m\u001b[0m\n\u001b[1;32m    162\u001b[0m \u001b[0;34m\u001b[0m\u001b[0m\n",
      "\u001b[0;32m~/anaconda3/lib/python3.6/site-packages/sklearn/utils/validation.py\u001b[0m in \u001b[0;36mcheck_array\u001b[0;34m(array, accept_sparse, dtype, order, copy, force_all_finite, ensure_2d, allow_nd, ensure_min_samples, ensure_min_features, warn_on_dtype, estimator)\u001b[0m\n\u001b[1;32m    431\u001b[0m                                       force_all_finite)\n\u001b[1;32m    432\u001b[0m     \u001b[0;32melse\u001b[0m\u001b[0;34m:\u001b[0m\u001b[0;34m\u001b[0m\u001b[0m\n\u001b[0;32m--> 433\u001b[0;31m         \u001b[0marray\u001b[0m \u001b[0;34m=\u001b[0m \u001b[0mnp\u001b[0m\u001b[0;34m.\u001b[0m\u001b[0marray\u001b[0m\u001b[0;34m(\u001b[0m\u001b[0marray\u001b[0m\u001b[0;34m,\u001b[0m \u001b[0mdtype\u001b[0m\u001b[0;34m=\u001b[0m\u001b[0mdtype\u001b[0m\u001b[0;34m,\u001b[0m \u001b[0morder\u001b[0m\u001b[0;34m=\u001b[0m\u001b[0morder\u001b[0m\u001b[0;34m,\u001b[0m \u001b[0mcopy\u001b[0m\u001b[0;34m=\u001b[0m\u001b[0mcopy\u001b[0m\u001b[0;34m)\u001b[0m\u001b[0;34m\u001b[0m\u001b[0m\n\u001b[0m\u001b[1;32m    434\u001b[0m \u001b[0;34m\u001b[0m\u001b[0m\n\u001b[1;32m    435\u001b[0m         \u001b[0;32mif\u001b[0m \u001b[0mensure_2d\u001b[0m\u001b[0;34m:\u001b[0m\u001b[0;34m\u001b[0m\u001b[0m\n",
      "\u001b[0;31mValueError\u001b[0m: could not convert string to float: 'CVaDxPqnJ2SinMRi'"
     ]
    }
   ],
   "source": [
    "# get the data\n",
    "X_digits = numerics.values\n",
    "y_digits = y_train.values\n",
    "\n",
    "# Plot the PCA spectrum\n",
    "svd.fit(X_digits)\n",
    "\n",
    "plt.figure(1, figsize=(4, 3))\n",
    "plt.clf()\n",
    "plt.axes([.2, .2, .7, .7])\n",
    "plt.plot(svd.explained_variance_, linewidth=2)\n",
    "plt.axis('tight')\n",
    "plt.xlabel('n_components')\n",
    "plt.ylabel('explained_variance_')\n",
    "\n",
    "# Prediction\n",
    "n_components = [20, 40, 64]\n",
    "Cs = np.logspace(-4, 4, 3)\n",
    "\n",
    "# Parameters of pipelines can be set using ‘__’ separated parameter names:\n",
    "estimator = GridSearchCV(pipe,\n",
    "                         dict(svd__n_components=n_components,\n",
    "                              logistic__C=Cs))\n",
    "estimator.fit(X_digits, y_digits)\n",
    "\n",
    "plt.axvline(estimator.best_estimator_.named_steps['svd'].n_components,\n",
    "            linestyle=':', label='n_components chosen')\n",
    "plt.legend(prop=dict(size=12))\n",
    "plt.show()"
   ]
  },
  {
   "cell_type": "code",
   "execution_count": null,
   "metadata": {},
   "outputs": [],
   "source": []
  }
 ],
 "metadata": {
  "kernelspec": {
   "display_name": "Python 3",
   "language": "python",
   "name": "python3"
  },
  "language_info": {
   "codemirror_mode": {
    "name": "ipython",
    "version": 3
   },
   "file_extension": ".py",
   "mimetype": "text/x-python",
   "name": "python",
   "nbconvert_exporter": "python",
   "pygments_lexer": "ipython3",
   "version": "3.6.3"
  }
 },
 "nbformat": 4,
 "nbformat_minor": 2
}
